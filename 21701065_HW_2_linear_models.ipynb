{
  "nbformat": 4,
  "nbformat_minor": 0,
  "metadata": {
    "colab": {
      "name": "HW_2_linear_models.ipynb",
      "provenance": [],
      "collapsed_sections": []
    },
    "kernelspec": {
      "name": "python3",
      "display_name": "Python 3"
    }
  },
  "cells": [
    {
      "cell_type": "code",
      "metadata": {
        "id": "mq2U3jlEzhgM",
        "outputId": "2432c83f-96b9-4de6-f786-445a81bd3ea4",
        "colab": {
          "base_uri": "https://localhost:8080/"
        }
      },
      "source": [
        "import random\n",
        "import numpy as np\n",
        "import sklearn as sk\n",
        "import matplotlib.pyplot as plt\n",
        "\n",
        "!pip install mglearn\n",
        "import mglearn"
      ],
      "execution_count": 2,
      "outputs": [
        {
          "output_type": "stream",
          "text": [
            "Collecting mglearn\n",
            "\u001b[?25l  Downloading https://files.pythonhosted.org/packages/65/38/8aced26fce0b2ae82c3c87cd3b6105f38ca6d9d51704ecc44aa54473e6b9/mglearn-0.1.9.tar.gz (540kB)\n",
            "\r\u001b[K     |▋                               | 10kB 14.3MB/s eta 0:00:01\r\u001b[K     |█▏                              | 20kB 3.3MB/s eta 0:00:01\r\u001b[K     |█▉                              | 30kB 3.7MB/s eta 0:00:01\r\u001b[K     |██▍                             | 40kB 4.2MB/s eta 0:00:01\r\u001b[K     |███                             | 51kB 3.5MB/s eta 0:00:01\r\u001b[K     |███▋                            | 61kB 3.9MB/s eta 0:00:01\r\u001b[K     |████▎                           | 71kB 4.3MB/s eta 0:00:01\r\u001b[K     |████▉                           | 81kB 4.6MB/s eta 0:00:01\r\u001b[K     |█████▌                          | 92kB 4.8MB/s eta 0:00:01\r\u001b[K     |██████                          | 102kB 4.7MB/s eta 0:00:01\r\u001b[K     |██████▊                         | 112kB 4.7MB/s eta 0:00:01\r\u001b[K     |███████▎                        | 122kB 4.7MB/s eta 0:00:01\r\u001b[K     |███████▉                        | 133kB 4.7MB/s eta 0:00:01\r\u001b[K     |████████▌                       | 143kB 4.7MB/s eta 0:00:01\r\u001b[K     |█████████                       | 153kB 4.7MB/s eta 0:00:01\r\u001b[K     |█████████▊                      | 163kB 4.7MB/s eta 0:00:01\r\u001b[K     |██████████▎                     | 174kB 4.7MB/s eta 0:00:01\r\u001b[K     |███████████                     | 184kB 4.7MB/s eta 0:00:01\r\u001b[K     |███████████▌                    | 194kB 4.7MB/s eta 0:00:01\r\u001b[K     |████████████▏                   | 204kB 4.7MB/s eta 0:00:01\r\u001b[K     |████████████▊                   | 215kB 4.7MB/s eta 0:00:01\r\u001b[K     |█████████████▍                  | 225kB 4.7MB/s eta 0:00:01\r\u001b[K     |██████████████                  | 235kB 4.7MB/s eta 0:00:01\r\u001b[K     |██████████████▋                 | 245kB 4.7MB/s eta 0:00:01\r\u001b[K     |███████████████▏                | 256kB 4.7MB/s eta 0:00:01\r\u001b[K     |███████████████▊                | 266kB 4.7MB/s eta 0:00:01\r\u001b[K     |████████████████▍               | 276kB 4.7MB/s eta 0:00:01\r\u001b[K     |█████████████████               | 286kB 4.7MB/s eta 0:00:01\r\u001b[K     |█████████████████▋              | 296kB 4.7MB/s eta 0:00:01\r\u001b[K     |██████████████████▏             | 307kB 4.7MB/s eta 0:00:01\r\u001b[K     |██████████████████▉             | 317kB 4.7MB/s eta 0:00:01\r\u001b[K     |███████████████████▍            | 327kB 4.7MB/s eta 0:00:01\r\u001b[K     |████████████████████            | 337kB 4.7MB/s eta 0:00:01\r\u001b[K     |████████████████████▋           | 348kB 4.7MB/s eta 0:00:01\r\u001b[K     |█████████████████████▎          | 358kB 4.7MB/s eta 0:00:01\r\u001b[K     |█████████████████████▉          | 368kB 4.7MB/s eta 0:00:01\r\u001b[K     |██████████████████████▌         | 378kB 4.7MB/s eta 0:00:01\r\u001b[K     |███████████████████████         | 389kB 4.7MB/s eta 0:00:01\r\u001b[K     |███████████████████████▋        | 399kB 4.7MB/s eta 0:00:01\r\u001b[K     |████████████████████████▎       | 409kB 4.7MB/s eta 0:00:01\r\u001b[K     |████████████████████████▉       | 419kB 4.7MB/s eta 0:00:01\r\u001b[K     |█████████████████████████▌      | 430kB 4.7MB/s eta 0:00:01\r\u001b[K     |██████████████████████████      | 440kB 4.7MB/s eta 0:00:01\r\u001b[K     |██████████████████████████▊     | 450kB 4.7MB/s eta 0:00:01\r\u001b[K     |███████████████████████████▎    | 460kB 4.7MB/s eta 0:00:01\r\u001b[K     |████████████████████████████    | 471kB 4.7MB/s eta 0:00:01\r\u001b[K     |████████████████████████████▌   | 481kB 4.7MB/s eta 0:00:01\r\u001b[K     |█████████████████████████████▏  | 491kB 4.7MB/s eta 0:00:01\r\u001b[K     |█████████████████████████████▊  | 501kB 4.7MB/s eta 0:00:01\r\u001b[K     |██████████████████████████████▍ | 512kB 4.7MB/s eta 0:00:01\r\u001b[K     |███████████████████████████████ | 522kB 4.7MB/s eta 0:00:01\r\u001b[K     |███████████████████████████████▌| 532kB 4.7MB/s eta 0:00:01\r\u001b[K     |████████████████████████████████| 542kB 4.7MB/s \n",
            "\u001b[?25hRequirement already satisfied: numpy in /usr/local/lib/python3.6/dist-packages (from mglearn) (1.18.5)\n",
            "Requirement already satisfied: matplotlib in /usr/local/lib/python3.6/dist-packages (from mglearn) (3.2.2)\n",
            "Requirement already satisfied: scikit-learn in /usr/local/lib/python3.6/dist-packages (from mglearn) (0.22.2.post1)\n",
            "Requirement already satisfied: pandas in /usr/local/lib/python3.6/dist-packages (from mglearn) (1.1.2)\n",
            "Requirement already satisfied: pillow in /usr/local/lib/python3.6/dist-packages (from mglearn) (7.0.0)\n",
            "Requirement already satisfied: cycler in /usr/local/lib/python3.6/dist-packages (from mglearn) (0.10.0)\n",
            "Requirement already satisfied: imageio in /usr/local/lib/python3.6/dist-packages (from mglearn) (2.4.1)\n",
            "Requirement already satisfied: joblib in /usr/local/lib/python3.6/dist-packages (from mglearn) (0.16.0)\n",
            "Requirement already satisfied: pyparsing!=2.0.4,!=2.1.2,!=2.1.6,>=2.0.1 in /usr/local/lib/python3.6/dist-packages (from matplotlib->mglearn) (2.4.7)\n",
            "Requirement already satisfied: python-dateutil>=2.1 in /usr/local/lib/python3.6/dist-packages (from matplotlib->mglearn) (2.8.1)\n",
            "Requirement already satisfied: kiwisolver>=1.0.1 in /usr/local/lib/python3.6/dist-packages (from matplotlib->mglearn) (1.2.0)\n",
            "Requirement already satisfied: scipy>=0.17.0 in /usr/local/lib/python3.6/dist-packages (from scikit-learn->mglearn) (1.4.1)\n",
            "Requirement already satisfied: pytz>=2017.2 in /usr/local/lib/python3.6/dist-packages (from pandas->mglearn) (2018.9)\n",
            "Requirement already satisfied: six in /usr/local/lib/python3.6/dist-packages (from cycler->mglearn) (1.15.0)\n",
            "Building wheels for collected packages: mglearn\n",
            "  Building wheel for mglearn (setup.py) ... \u001b[?25l\u001b[?25hdone\n",
            "  Created wheel for mglearn: filename=mglearn-0.1.9-py2.py3-none-any.whl size=582639 sha256=8b36ef7ec9ac9fd0ead59337740d1e51536da2334def15888eec46198dbd5a77\n",
            "  Stored in directory: /root/.cache/pip/wheels/eb/a6/ea/a6a3716233fa62fc561259b5cb1e28f79e9ff3592c0adac5f0\n",
            "Successfully built mglearn\n",
            "Installing collected packages: mglearn\n",
            "Successfully installed mglearn-0.1.9\n"
          ],
          "name": "stdout"
        }
      ]
    },
    {
      "cell_type": "markdown",
      "metadata": {
        "id": "R8xBOFkal5mc"
      },
      "source": [
        "## Logistic Regression"
      ]
    },
    {
      "cell_type": "markdown",
      "metadata": {
        "id": "UzyJaNAgeLmV"
      },
      "source": [
        "TO DO: define two functions GetClass1(X) and GetClass2(X)\n",
        "\n",
        "* GetClass1(X) returns (X * 0.5 + np.abs(np.sin(X * np.pi / 180)) * 180 + np.random.normal(0, 30, len(X)))\n",
        "* GetClass2(X) returns (X * 0.5 + 50 - np.abs(np.cos(X * np.pi / 180)) * 180 + np.random.normal(0, 30, len(X)))\n"
      ]
    },
    {
      "cell_type": "code",
      "metadata": {
        "id": "hZTqwAY2QFRH"
      },
      "source": [
        "def GetClass1(X):\n",
        "  return (X * 0.5 + np.abs(np.sin(X * np.pi / 180)) * 180 + np.random.normal(0,30,len(X)))\n",
        "\n",
        "def GetClass2(X):\n",
        "  return (X * 0.5 + 50 - np.abs(np.cos(X * np.pi / 180)) * 180 + np.random.normal(0, 30, len(X)))"
      ],
      "execution_count": 3,
      "outputs": []
    },
    {
      "cell_type": "markdown",
      "metadata": {
        "id": "r3HMkcy1edaD"
      },
      "source": [
        "TO DO:\n",
        "* Set random seed by 12 using np.random.seed()\n",
        "* Create an array composed of 100 numbers from 0 to 360\n",
        "* Draw plot using X and GetClass1(X)\n",
        "* Draw plot using X and GetClass2(X)"
      ]
    },
    {
      "cell_type": "code",
      "metadata": {
        "id": "WalPXBHg0r9q",
        "outputId": "b42eef05-4d7d-4985-de1f-93355a63169a",
        "colab": {
          "base_uri": "https://localhost:8080/",
          "height": 282
        }
      },
      "source": [
        "np.random.seed(12)\n",
        "X = np.arange(0,360, 3.6)\n",
        "plt.plot(GetClass1(X))\n",
        "plt.plot(GetClass2(X))"
      ],
      "execution_count": 4,
      "outputs": [
        {
          "output_type": "execute_result",
          "data": {
            "text/plain": [
              "[<matplotlib.lines.Line2D at 0x7efdcf73eb00>]"
            ]
          },
          "metadata": {
            "tags": []
          },
          "execution_count": 4
        },
        {
          "output_type": "display_data",
          "data": {
            "image/png": "[encoded data removed]",
            "text/plain": [
              "<Figure size 432x288 with 1 Axes>"
            ]
          },
          "metadata": {
            "tags": [],
            "needs_background": "light"
          }
        }
      ]
    },
    {
      "cell_type": "markdown",
      "metadata": {
        "id": "1jyoWlHDfSgE"
      },
      "source": [
        "TO DO: Create class 1 samples\n",
        "* Create an array $x_{11}$ composed of 50 random numbers between 0 and 360.\n",
        "* Create an array $x_{12}$ by GetClass1($x_{11}$).\n",
        "* Create an array $y_1$ of size 50 filled with zeros.\n",
        "* Combine $x_{11}$, $x_{12}$ and $y_1$ to make a 50x3 array $d_1$. (Use np.expand_dims() and np.concatenate().)\n",
        "* print the first 10 rows of $d_1$"
      ]
    },
    {
      "cell_type": "code",
      "metadata": {
        "id": "mcDUtreZ2Wz1",
        "outputId": "61ba96ee-b075-407e-8ccf-422c08ba714b",
        "colab": {
          "base_uri": "https://localhost:8080/"
        }
      },
      "source": [
        "x11 = np.random.rand(50)*360\n",
        "x12 = GetClass1(x11)\n",
        "y1 = np.zeros(50)\n",
        "x11 = np.expand_dims(x11, axis = 0)\n",
        "x12 = np.expand_dims(x12, axis = 0)\n",
        "y1 =  np.expand_dims(y1,  axis = 0)\n",
        "d1 = np.concatenate((x11.T, x12.T, y1.T), axis=1) \n",
        "print(d1[:10])"
      ],
      "execution_count": 5,
      "outputs": [
        {
          "output_type": "stream",
          "text": [
            "[[ 13.658839    56.07105357   0.        ]\n",
            " [ 55.80406329 141.87970265   0.        ]\n",
            " [ 61.43364224  98.32685969   0.        ]\n",
            " [277.312394   335.01132799   0.        ]\n",
            " [ 86.11147478 232.58314643   0.        ]\n",
            " [268.9812314  282.27771924   0.        ]\n",
            " [125.09790647 248.50314149   0.        ]\n",
            " [238.03681255 269.16267577   0.        ]\n",
            " [235.63943994 252.1114025    0.        ]\n",
            " [ 83.87133944 191.99547334   0.        ]]\n"
          ],
          "name": "stdout"
        }
      ]
    },
    {
      "cell_type": "markdown",
      "metadata": {
        "id": "PAouMCjwg9yR"
      },
      "source": [
        "TO DO: Create class 2 samples\n",
        "* Create an array $x_{21}$ composed of 50 random numbers between 0 and 360.\n",
        "* Create an array $x_{22}$ by GetClass2($x_{21}$).\n",
        "* Create an array $y_2$ of size 50 filled with ones.\n",
        "* Combine $x_{21}$, $x_{22}$ and $y_2$ to make a 50x3 array $d_2$. (Use np.expand_dims() and np.concatenate().)\n",
        "* print the first 10 rows of $d_2$"
      ]
    },
    {
      "cell_type": "code",
      "metadata": {
        "id": "iBKqAxf5fZT6",
        "outputId": "342f4832-5c4d-4299-bb80-a94293eb0ad8",
        "colab": {
          "base_uri": "https://localhost:8080/"
        }
      },
      "source": [
        "x21 = np.random.rand(50)*360\n",
        "x22 = GetClass2(x21)\n",
        "y2 = np.ones(50)\n",
        "x21 = np.expand_dims(x21, axis = 0)\n",
        "x22 = np.expand_dims(x22, axis = 0)\n",
        "y2 =  np.expand_dims(y2,  axis = 0)\n",
        "d2 = np.concatenate((x21.T, x22.T, y2.T), axis=1) \n",
        "print(d2[:10])"
      ],
      "execution_count": 6,
      "outputs": [
        {
          "output_type": "stream",
          "text": [
            "[[202.11365676  -4.40781031   1.        ]\n",
            " [ 37.11143784 -80.78783649   1.        ]\n",
            " [112.07735169  22.29304467   1.        ]\n",
            " [290.47736536 158.97892151   1.        ]\n",
            " [174.97262355 -53.99433601   1.        ]\n",
            " [344.06435284  17.82628423   1.        ]\n",
            " [257.24052307 158.03712683   1.        ]\n",
            " [ 41.48832038 -68.78765653   1.        ]\n",
            " [161.23024625 -29.87055773   1.        ]\n",
            " [189.63701275 -23.00935382   1.        ]]\n"
          ],
          "name": "stdout"
        }
      ]
    },
    {
      "cell_type": "markdown",
      "metadata": {
        "id": "_B6ieV5oh12-"
      },
      "source": [
        "TO DO: Make X and y from $d_1$ and $d_2$.\n",
        "* Combine $d_1$ and $d_2$ to make a 100x3 array $d$.\n",
        "* Shuffle the row of $d$ using np.random.shuffle().\n",
        "* Create a 100x2 array $X$ by the first two columns of $d$.\n",
        "* Create a single rank array $y$ by the last column of $d$.\n",
        "* Print the first 10 rows of X\n",
        "* Print the first 10 elements of y"
      ]
    },
    {
      "cell_type": "code",
      "metadata": {
        "id": "Ak16o66f_v4c",
        "outputId": "5e004dd0-93de-42ca-968c-11929f6e8fde",
        "colab": {
          "base_uri": "https://localhost:8080/"
        }
      },
      "source": [
        "d = np.vstack((d1,d2))\n",
        "np.random.shuffle(d)\n",
        "temp1 = np.expand_dims(d[:,0],axis=0)\n",
        "temp2 = np.expand_dims(d[:,1],axis=0)\n",
        "X = np.concatenate((temp1.T,temp2.T),axis=1)\n",
        "y = d[:,2].T\n",
        "print(X[:10])\n",
        "print(y[:10])"
      ],
      "execution_count": 7,
      "outputs": [
        {
          "output_type": "stream",
          "text": [
            "[[  4.99052932  21.19180388]\n",
            " [335.28798028  72.71503033]\n",
            " [ 19.18211324 -82.4172931 ]\n",
            " [151.5509172  196.14291664]\n",
            " [125.09790647 248.50314149]\n",
            " [257.24052307 158.03712683]\n",
            " [170.46121082 -59.66050965]\n",
            " [305.52197828 104.65034349]\n",
            " [277.312394   335.01132799]\n",
            " [ 59.68092879 -28.41599808]]\n",
            "[0. 1. 1. 0. 0. 1. 1. 1. 0. 1.]\n"
          ],
          "name": "stdout"
        }
      ]
    },
    {
      "cell_type": "markdown",
      "metadata": {
        "id": "KuSV1_MmjVoh"
      },
      "source": [
        "TO DO: Draw scatter chart using mglearn.discrete_scatter()"
      ]
    },
    {
      "cell_type": "code",
      "metadata": {
        "id": "3xaellZh2f1G",
        "outputId": "7e14c731-b5b0-4c88-8848-1a4f9b981491",
        "colab": {
          "base_uri": "https://localhost:8080/",
          "height": 300
        }
      },
      "source": [
        "mglearn.discrete_scatter(X[:,0], X[:,1], y)"
      ],
      "execution_count": 11,
      "outputs": [
        {
          "output_type": "execute_result",
          "data": {
            "text/plain": [
              "[<matplotlib.lines.Line2D at 0x7efdc7132748>,\n",
              " <matplotlib.lines.Line2D at 0x7efdc7132860>]"
            ]
          },
          "metadata": {
            "tags": []
          },
          "execution_count": 11
        },
        {
          "output_type": "display_data",
          "data": {
            "image/png": "[encoded data removed]",
            "text/plain": [
              "<Figure size 432x288 with 1 Axes>"
            ]
          },
          "metadata": {
            "tags": [],
            "needs_background": "light"
          }
        }
      ]
    },
    {
      "cell_type": "markdown",
      "metadata": {
        "id": "DbAVABpskiaJ"
      },
      "source": [
        "TO DO: split X and y into a training set and a test set using train_test_split()"
      ]
    },
    {
      "cell_type": "code",
      "metadata": {
        "id": "0cfer07ekAcA"
      },
      "source": [
        "from sklearn.model_selection import train_test_split\n",
        "X_train, X_test, y_train, y_test = train_test_split(X, y, random_state = 0)"
      ],
      "execution_count": 13,
      "outputs": []
    },
    {
      "cell_type": "markdown",
      "metadata": {
        "id": "OVZ4KmGSj4RL"
      },
      "source": [
        "TO DO: Create a LogisticRegression object and train with the training samples"
      ]
    },
    {
      "cell_type": "code",
      "metadata": {
        "id": "OSz-YBj4_Ehk"
      },
      "source": [
        "from sklearn.linear_model import LogisticRegression\n",
        "lr = LogisticRegression().fit(X_train,y_train)"
      ],
      "execution_count": 14,
      "outputs": []
    },
    {
      "cell_type": "markdown",
      "metadata": {
        "id": "HpYHq2gTkxSB"
      },
      "source": [
        "TO DO: Compare the predicted values with the ground truth values.\n",
        "* Predict y of the test input samples (e.g., X_test) using the LogisticRegression object\n",
        "* Compare the predicted values and the groud truth values as the output example."
      ]
    },
    {
      "cell_type": "code",
      "metadata": {
        "id": "swAjmTb6Y_JP",
        "outputId": "67f81fa6-afbe-4df4-90e0-59d4a6726c47",
        "colab": {
          "base_uri": "https://localhost:8080/"
        }
      },
      "source": [
        "y_hat = lr.predict(X_test)\n",
        "for i in range(len(y_hat)):\n",
        "  if (y_hat[i]==y_test[i]): print(y_hat[i], \"vs \" , y_test[i], \"  (match = True)\")\n",
        "  else: print(y_hat[i], \"vs \" , y_test[i], \"  (match = False)\")"
      ],
      "execution_count": 15,
      "outputs": [
        {
          "output_type": "stream",
          "text": [
            "0.0 vs  0.0   (match = True)\n",
            "1.0 vs  1.0   (match = True)\n",
            "1.0 vs  1.0   (match = True)\n",
            "1.0 vs  1.0   (match = True)\n",
            "0.0 vs  0.0   (match = True)\n",
            "1.0 vs  1.0   (match = True)\n",
            "1.0 vs  1.0   (match = True)\n",
            "0.0 vs  0.0   (match = True)\n",
            "1.0 vs  1.0   (match = True)\n",
            "1.0 vs  1.0   (match = True)\n",
            "0.0 vs  0.0   (match = True)\n",
            "1.0 vs  1.0   (match = True)\n",
            "1.0 vs  1.0   (match = True)\n",
            "1.0 vs  1.0   (match = True)\n",
            "1.0 vs  1.0   (match = True)\n",
            "0.0 vs  0.0   (match = True)\n",
            "1.0 vs  1.0   (match = True)\n",
            "0.0 vs  1.0   (match = False)\n",
            "1.0 vs  1.0   (match = True)\n",
            "0.0 vs  0.0   (match = True)\n",
            "0.0 vs  0.0   (match = True)\n",
            "0.0 vs  0.0   (match = True)\n",
            "0.0 vs  0.0   (match = True)\n",
            "1.0 vs  1.0   (match = True)\n",
            "1.0 vs  1.0   (match = True)\n"
          ],
          "name": "stdout"
        }
      ]
    },
    {
      "cell_type": "markdown",
      "metadata": {
        "id": "Ji92TUZjlhDq"
      },
      "source": [
        "TO DO: Print the training accuracy and test accuracy"
      ]
    },
    {
      "cell_type": "code",
      "metadata": {
        "id": "0Au_uU9lksSr",
        "outputId": "1a0f1bbe-1802-4327-8dd6-742a3b04a46d",
        "colab": {
          "base_uri": "https://localhost:8080/"
        }
      },
      "source": [
        "print(\"training accuracy = \", lr.score(X_train, y_train))\n",
        "print(\"test accuracy = \", lr.score(X_test, y_test))"
      ],
      "execution_count": 17,
      "outputs": [
        {
          "output_type": "stream",
          "text": [
            "training accuracy =  0.92\n",
            "test accuracy =  0.96\n"
          ],
          "name": "stdout"
        }
      ]
    },
    {
      "cell_type": "markdown",
      "metadata": {
        "id": "MOz9-pZ4kdWN"
      },
      "source": [
        "### Ridge regression"
      ]
    },
    {
      "cell_type": "markdown",
      "metadata": {
        "id": "n5A7iVEll-Mr"
      },
      "source": [
        "TO DO: Create input and output samples\n",
        "* Create a 100x1 array $X$ composed of 100 numbers from 0 to 100.\n",
        "* Create a 1D array $y$ from the 1st column of $X$ using the following formula: $y = (x-30)^2+100 + \\epsilon$, where $\\epsilon \\in N(0, 100^2)$.\n",
        "* Draw graph with X and y using plt.plot()"
      ]
    },
    {
      "cell_type": "code",
      "metadata": {
        "id": "QZkwQgRkZUXR",
        "outputId": "f850cf93-bf32-48c5-fe59-954216b0092b",
        "colab": {
          "base_uri": "https://localhost:8080/",
          "height": 282
        }
      },
      "source": [
        "X = np.linspace(0,100,100)\n",
        "y = (X - 30)*(X - 30) + 100 + np.random.normal(loc=0, scale=100 ,size=len(X))\n",
        "plt.plot(X,y)"
      ],
      "execution_count": 60,
      "outputs": [
        {
          "output_type": "execute_result",
          "data": {
            "text/plain": [
              "[<matplotlib.lines.Line2D at 0x7efde179ef28>]"
            ]
          },
          "metadata": {
            "tags": []
          },
          "execution_count": 60
        },
        {
          "output_type": "display_data",
          "data": {
            "image/png": "[encoded data removed]",
            "text/plain": [
              "<Figure size 432x288 with 1 Axes>"
            ]
          },
          "metadata": {
            "tags": [],
            "needs_background": "light"
          }
        }
      ]
    },
    {
      "cell_type": "markdown",
      "metadata": {
        "id": "Zf1bmT3VnMgR"
      },
      "source": [
        "TO DO: Create an object of Ridge and train it with $X$ and $y$."
      ]
    },
    {
      "cell_type": "code",
      "metadata": {
        "id": "3ek2rkohcSmf"
      },
      "source": [
        "from sklearn.linear_model import Ridge\n",
        "X = X.reshape(100,1)\n",
        "theRidge = Ridge().fit(X,y)"
      ],
      "execution_count": 61,
      "outputs": []
    },
    {
      "cell_type": "markdown",
      "metadata": {
        "id": "BARkjVwtnX74"
      },
      "source": [
        "TO DO: Plot $X$, $y$ and the prediction of Ridge from $X$."
      ]
    },
    {
      "cell_type": "code",
      "metadata": {
        "id": "ifFs-LgZdpXz",
        "outputId": "f2ae506d-bf86-4f7d-db0e-38682bb87a7e",
        "colab": {
          "base_uri": "https://localhost:8080/",
          "height": 282
        }
      },
      "source": [
        "plt.plot(X,y)\n",
        "plt.plot(theRidge.predict(X))"
      ],
      "execution_count": 62,
      "outputs": [
        {
          "output_type": "execute_result",
          "data": {
            "text/plain": [
              "[<matplotlib.lines.Line2D at 0x7efdc6ea9a20>]"
            ]
          },
          "metadata": {
            "tags": []
          },
          "execution_count": 62
        },
        {
          "output_type": "display_data",
          "data": {
            "image/png": "[encoded data removed]",
            "text/plain": [
              "<Figure size 432x288 with 1 Axes>"
            ]
          },
          "metadata": {
            "tags": [],
            "needs_background": "light"
          }
        }
      ]
    },
    {
      "cell_type": "markdown",
      "metadata": {
        "id": "G_EZtzSgr5pp"
      },
      "source": [
        "### Polynomial regression"
      ]
    },
    {
      "cell_type": "markdown",
      "metadata": {
        "id": "FmyVaZUkp92O"
      },
      "source": [
        "TO DO: Create a 100x2 array $X_2$ derived from $X$.\n",
        "* The first column is the same as $X$.\n",
        "* The second column is composed of $X[i,0]^2$'s.\n",
        "* Print the first 10 rows of $X_2$."
      ]
    },
    {
      "cell_type": "code",
      "metadata": {
        "id": "wR9Jy6nbpCUl",
        "outputId": "ba20e488-4ca1-469d-b6dc-2e444987bdc9",
        "colab": {
          "base_uri": "https://localhost:8080/"
        }
      },
      "source": [
        "squareX = X*X\n",
        "X2 = np.concatenate((X, squareX), axis=1)\n",
        "print(X2[:10])"
      ],
      "execution_count": 63,
      "outputs": [
        {
          "output_type": "stream",
          "text": [
            "[[ 0.          0.        ]\n",
            " [ 1.01010101  1.02030405]\n",
            " [ 2.02020202  4.0812162 ]\n",
            " [ 3.03030303  9.18273646]\n",
            " [ 4.04040404 16.32486481]\n",
            " [ 5.05050505 25.50760127]\n",
            " [ 6.06060606 36.73094582]\n",
            " [ 7.07070707 49.99489848]\n",
            " [ 8.08080808 65.29945924]\n",
            " [ 9.09090909 82.6446281 ]]\n"
          ],
          "name": "stdout"
        }
      ]
    },
    {
      "cell_type": "markdown",
      "metadata": {
        "id": "bS5vwWnKqlqY"
      },
      "source": [
        "To DO: Create another Ridge object and training it with $X_2$ and $y$"
      ]
    },
    {
      "cell_type": "code",
      "metadata": {
        "id": "x5bAnuU8pbPy"
      },
      "source": [
        "theRidge2 = Ridge().fit(X2,y)"
      ],
      "execution_count": 64,
      "outputs": []
    },
    {
      "cell_type": "markdown",
      "metadata": {
        "id": "XuvOrBphrc7f"
      },
      "source": [
        "TO DO: Plot $X_2[:,0]$, $y$ and the prediction of Ridge from $X_2$."
      ]
    },
    {
      "cell_type": "code",
      "metadata": {
        "id": "D6cXMMaWpwPa",
        "outputId": "0f71b20f-350b-4504-9b75-ab3a222be3c4",
        "colab": {
          "base_uri": "https://localhost:8080/",
          "height": 282
        }
      },
      "source": [
        "plt.plot(X2[:,0], y)\n",
        "plt.plot(theRidge2.predict(X2))"
      ],
      "execution_count": 67,
      "outputs": [
        {
          "output_type": "execute_result",
          "data": {
            "text/plain": [
              "[<matplotlib.lines.Line2D at 0x7efdc6462f28>]"
            ]
          },
          "metadata": {
            "tags": []
          },
          "execution_count": 67
        },
        {
          "output_type": "display_data",
          "data": {
            "image/png": "[encoded data removed]",
            "text/plain": [
              "<Figure size 432x288 with 1 Axes>"
            ]
          },
          "metadata": {
            "tags": [],
            "needs_background": "light"
          }
        }
      ]
    },
    {
      "cell_type": "code",
      "metadata": {
        "id": "rbSWhfUqp43c"
      },
      "source": [
        ""
      ],
      "execution_count": null,
      "outputs": []
    }
  ]
}