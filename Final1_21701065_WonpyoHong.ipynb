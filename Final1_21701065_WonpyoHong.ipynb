{
  "nbformat": 4,
  "nbformat_minor": 0,
  "metadata": {
    "colab": {
      "name": "21701065_Final_1.ipynb",
      "provenance": [],
      "collapsed_sections": []
    },
    "kernelspec": {
      "name": "python3",
      "display_name": "Python 3"
    }
  },
  "cells": [
    {
      "cell_type": "code",
      "metadata": {
        "id": "L8dl_U1Z6iVd"
      },
      "source": [
        "import numpy as np\r\n",
        "import sklearn as sk\r\n",
        "import random\r\n",
        "import matplotlib.pyplot as plt"
      ],
      "execution_count": 2,
      "outputs": []
    },
    {
      "cell_type": "code",
      "metadata": {
        "colab": {
          "base_uri": "https://localhost:8080/"
        },
        "id": "JQxRRiGW7beY",
        "outputId": "75e935d5-3b8e-4a6c-da4c-345a0817d7ae"
      },
      "source": [
        "import torch\r\n",
        "import torchvision            \r\n",
        "import torch.nn as nn\r\n",
        "\r\n",
        "print(torch.__version__)"
      ],
      "execution_count": 3,
      "outputs": [
        {
          "output_type": "stream",
          "text": [
            "1.7.0+cu101\n"
          ],
          "name": "stdout"
        }
      ]
    },
    {
      "cell_type": "code",
      "metadata": {
        "id": "P-Xnd7t877Tx"
      },
      "source": [
        "np.random.seed(12)\r\n",
        "data_1_x = np.random.uniform(-1,0,10000)\r\n",
        "data_1_y = np.random.uniform(-1,0,10000)\r\n",
        "data_1_label = np.zeros(10000)\r\n",
        "data_1 = np.column_stack( (data_1_x, data_1_y))\r\n",
        "\r\n",
        "data_2_x = np.random.uniform(-1,0,10000)\r\n",
        "data_2_y = np.random.uniform(0,1,10000)\r\n",
        "data_2_label = np.ones(10000)\r\n",
        "data_2 = np.column_stack( (data_2_x, data_2_y))\r\n",
        "\r\n",
        "data_3_x = np.random.uniform(0,1,10000)\r\n",
        "data_3_y = np.random.uniform(-1,0,10000)\r\n",
        "data_3_label = np.ones(10000)\r\n",
        "data_3 = np.column_stack( (data_3_x, data_3_y))\r\n",
        "\r\n",
        "data_4_x = np.random.uniform(0,1,10000)\r\n",
        "data_4_y = np.random.uniform(0,1,10000)\r\n",
        "data_4_label = np.zeros(10000)\r\n",
        "data_4 = np.column_stack( (data_4_x, data_4_y))"
      ],
      "execution_count": 4,
      "outputs": []
    },
    {
      "cell_type": "code",
      "metadata": {
        "colab": {
          "base_uri": "https://localhost:8080/",
          "height": 283
        },
        "id": "fwXIKjUr9-e6",
        "outputId": "4e8267c0-7d19-4eb3-bfe5-984a18bc74b2"
      },
      "source": [
        "plt.scatter(data_1_x, data_1_y, color='yellow', label=\"class 0\")\r\n",
        "plt.scatter(data_2_x, data_2_y, color='purple', label=\"class 1\")\r\n",
        "plt.scatter(data_3_x, data_3_y, color='purple', label=\"class 1\")\r\n",
        "plt.scatter(data_4_x, data_4_y, color='yellow', label=\"class 0\")"
      ],
      "execution_count": 5,
      "outputs": [
        {
          "output_type": "execute_result",
          "data": {
            "text/plain": [
              "<matplotlib.collections.PathCollection at 0x7fbd7bca3438>"
            ]
          },
          "metadata": {
            "tags": []
          },
          "execution_count": 5
        },
        {
          "output_type": "display_data",
          "data": {
            "image/png": "[encoded data removed]",
            "text/plain": [
              "<Figure size 432x288 with 1 Axes>"
            ]
          },
          "metadata": {
            "tags": [],
            "needs_background": "light"
          }
        }
      ]
    },
    {
      "cell_type": "code",
      "metadata": {
        "id": "cspn8wckDbmd"
      },
      "source": [
        "data_x = np.row_stack((data_1_x, data_2_x, data_3_x, data_4_x))\r\n",
        "data_y = np.row_stack((data_1_y, data_2_y, data_3_y, data_4_y))\r\n",
        "data_label = np.row_stack((data_1_label, data_2_label, data_3_label, data_4_label))\r\n",
        "data = np.column_stack((data_x, data_y))"
      ],
      "execution_count": 6,
      "outputs": []
    },
    {
      "cell_type": "code",
      "metadata": {
        "id": "ocTjg2BO-cEt"
      },
      "source": [
        "from sklearn.model_selection import train_test_split\r\n",
        "X_train, X_test, y_train, y_test = train_test_split(data,data_label,random_state = 0)"
      ],
      "execution_count": 7,
      "outputs": []
    },
    {
      "cell_type": "code",
      "metadata": {
        "colab": {
          "base_uri": "https://localhost:8080/"
        },
        "id": "HxnbqqvIEXq0",
        "outputId": "618f1fd0-013d-4c7c-8b13-b3e86f83bf08"
      },
      "source": [
        "from sklearn.neural_network import MLPClassifier\r\n",
        "! pip install mglearn\r\n",
        "import mglearn"
      ],
      "execution_count": 8,
      "outputs": [
        {
          "output_type": "stream",
          "text": [
            "Collecting mglearn\n",
            "\u001b[?25l  Downloading https://files.pythonhosted.org/packages/65/38/8aced26fce0b2ae82c3c87cd3b6105f38ca6d9d51704ecc44aa54473e6b9/mglearn-0.1.9.tar.gz (540kB)\n",
            "\u001b[K     |████████████████████████████████| 542kB 5.6MB/s \n",
            "\u001b[?25hRequirement already satisfied: numpy in /usr/local/lib/python3.6/dist-packages (from mglearn) (1.19.4)\n",
            "Requirement already satisfied: matplotlib in /usr/local/lib/python3.6/dist-packages (from mglearn) (3.2.2)\n",
            "Requirement already satisfied: scikit-learn in /usr/local/lib/python3.6/dist-packages (from mglearn) (0.22.2.post1)\n",
            "Requirement already satisfied: pandas in /usr/local/lib/python3.6/dist-packages (from mglearn) (1.1.5)\n",
            "Requirement already satisfied: pillow in /usr/local/lib/python3.6/dist-packages (from mglearn) (7.0.0)\n",
            "Requirement already satisfied: cycler in /usr/local/lib/python3.6/dist-packages (from mglearn) (0.10.0)\n",
            "Requirement already satisfied: imageio in /usr/local/lib/python3.6/dist-packages (from mglearn) (2.4.1)\n",
            "Requirement already satisfied: joblib in /usr/local/lib/python3.6/dist-packages (from mglearn) (1.0.0)\n",
            "Requirement already satisfied: kiwisolver>=1.0.1 in /usr/local/lib/python3.6/dist-packages (from matplotlib->mglearn) (1.3.1)\n",
            "Requirement already satisfied: python-dateutil>=2.1 in /usr/local/lib/python3.6/dist-packages (from matplotlib->mglearn) (2.8.1)\n",
            "Requirement already satisfied: pyparsing!=2.0.4,!=2.1.2,!=2.1.6,>=2.0.1 in /usr/local/lib/python3.6/dist-packages (from matplotlib->mglearn) (2.4.7)\n",
            "Requirement already satisfied: scipy>=0.17.0 in /usr/local/lib/python3.6/dist-packages (from scikit-learn->mglearn) (1.4.1)\n",
            "Requirement already satisfied: pytz>=2017.2 in /usr/local/lib/python3.6/dist-packages (from pandas->mglearn) (2018.9)\n",
            "Requirement already satisfied: six in /usr/local/lib/python3.6/dist-packages (from cycler->mglearn) (1.15.0)\n",
            "Building wheels for collected packages: mglearn\n",
            "  Building wheel for mglearn (setup.py) ... \u001b[?25l\u001b[?25hdone\n",
            "  Created wheel for mglearn: filename=mglearn-0.1.9-py2.py3-none-any.whl size=582638 sha256=d3f15f98326ed709effa4c152649f044625a2938c2aebad3b7e00176e2101c02\n",
            "  Stored in directory: /root/.cache/pip/wheels/eb/a6/ea/a6a3716233fa62fc561259b5cb1e28f79e9ff3592c0adac5f0\n",
            "Successfully built mglearn\n",
            "Installing collected packages: mglearn\n",
            "Successfully installed mglearn-0.1.9\n"
          ],
          "name": "stdout"
        }
      ]
    },
    {
      "cell_type": "code",
      "metadata": {
        "colab": {
          "base_uri": "https://localhost:8080/"
        },
        "id": "FxaE4WxIHgMf",
        "outputId": "3e0bf5b2-d6b3-41c6-a3e2-0b820fefa0b5"
      },
      "source": [
        "mlp = MLPClassifier(random_state = 0, hidden_layer_sizes = [4,4,4,4,3,4]).fit(X_train,y_train)\r\n",
        "\r\n",
        "print(\"Training accuracy = \", mlp.score(X_train, y_train))\r\n",
        "print(\"Test Accuracy = \", mlp.score(X_test, y_test))"
      ],
      "execution_count": 74,
      "outputs": [
        {
          "output_type": "stream",
          "text": [
            "Training accuracy =  1.0\n",
            "Test Accuracy =  1.0\n"
          ],
          "name": "stdout"
        },
        {
          "output_type": "stream",
          "text": [
            "/usr/local/lib/python3.6/dist-packages/sklearn/neural_network/_multilayer_perceptron.py:571: ConvergenceWarning: Stochastic Optimizer: Maximum iterations (200) reached and the optimization hasn't converged yet.\n",
            "  % self.max_iter, ConvergenceWarning)\n"
          ],
          "name": "stderr"
        }
      ]
    },
    {
      "cell_type": "code",
      "metadata": {
        "id": "NC5NVvRq5Yq2"
      },
      "source": [
        "from sklearn.linear_model import LinearRegression\r\n",
        "lr = LinearRegression().fit(X_train, y_train)\r\n",
        "y_hat = lr.predict(X_test)"
      ],
      "execution_count": 75,
      "outputs": []
    },
    {
      "cell_type": "code",
      "metadata": {
        "colab": {
          "base_uri": "https://localhost:8080/",
          "height": 340
        },
        "id": "-DGBirOYJhnp",
        "outputId": "42935edf-5d30-428e-bee1-7d6cb955dcbb"
      },
      "source": [
        "axes = plt.gca()\r\n",
        "axes.set_xlim([-1,1])\r\n",
        "axes.set_ylim([-1,1])\r\n",
        "plt.scatter(data_1_x, data_1_y, color='yellow', label=\"class 0\")\r\n",
        "plt.scatter(data_2_x, data_2_y, color='purple', label=\"class 1\")\r\n",
        "plt.scatter(data_3_x, data_3_y, color='purple', label=\"class 1\")\r\n",
        "plt.scatter(data_4_x, data_4_y, color='yellow', label=\"class 0\")\r\n",
        "plt.plot(np.dot(mlp.coefs_[0], mlp.coefs_[1]) + mlp.intercepts_[1])"
      ],
      "execution_count": 92,
      "outputs": [
        {
          "output_type": "execute_result",
          "data": {
            "text/plain": [
              "[<matplotlib.lines.Line2D at 0x7fbd5912b7b8>,\n",
              " <matplotlib.lines.Line2D at 0x7fbd58bf8ac8>,\n",
              " <matplotlib.lines.Line2D at 0x7fbd58bf8c18>,\n",
              " <matplotlib.lines.Line2D at 0x7fbd58bf8d68>]"
            ]
          },
          "metadata": {
            "tags": []
          },
          "execution_count": 92
        },
        {
          "output_type": "display_data",
          "data": {
            "image/png": "[encoded data removed]",
            "text/plain": [
              "<Figure size 432x288 with 1 Axes>"
            ]
          },
          "metadata": {
            "tags": [],
            "needs_background": "light"
          }
        }
      ]
    },
    {
      "cell_type": "code",
      "metadata": {
        "id": "KmvOSwPmKsg6"
      },
      "source": [
        ""
      ],
      "execution_count": null,
      "outputs": []
    }
  ]
}