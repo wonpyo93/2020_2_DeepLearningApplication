{
  "nbformat": 4,
  "nbformat_minor": 0,
  "metadata": {
    "colab": {
      "name": "21701065_HW_1.ipynb",
      "provenance": [],
      "collapsed_sections": []
    },
    "kernelspec": {
      "name": "python3",
      "display_name": "Python 3"
    }
  },
  "cells": [
    {
      "cell_type": "markdown",
      "metadata": {
        "id": "ih7yHYxosy_Z",
        "colab_type": "text"
      },
      "source": [
        "# numpy practice"
      ]
    },
    {
      "cell_type": "code",
      "metadata": {
        "id": "W1qShp-NfP2q",
        "colab_type": "code",
        "colab": {}
      },
      "source": [
        "import numpy as np\n",
        "np.set_printoptions(suppress = True)     # disable displaying in scientific form (e.g., 1.32847E2)"
      ],
      "execution_count": 1,
      "outputs": []
    },
    {
      "cell_type": "markdown",
      "metadata": {
        "id": "Jr7utE1YoZ_K",
        "colab_type": "text"
      },
      "source": [
        "TO DO:\n",
        "Initialize random seed by current time.\n",
        "(use np.random.seed().)"
      ]
    },
    {
      "cell_type": "code",
      "metadata": {
        "id": "SRkvfWgXhsrm",
        "colab_type": "code",
        "colab": {}
      },
      "source": [
        "np.random.seed(None)"
      ],
      "execution_count": 2,
      "outputs": []
    },
    {
      "cell_type": "code",
      "metadata": {
        "id": "snoEVL9nXBhL",
        "colab_type": "code",
        "colab": {}
      },
      "source": [
        "# constants\n",
        "lower = 0\n",
        "upper = 100\n",
        "range = upper - lower\n",
        "bins = 10             # of bins in histogram"
      ],
      "execution_count": 3,
      "outputs": []
    },
    {
      "cell_type": "markdown",
      "metadata": {
        "id": "ijIOPSYioyxc",
        "colab_type": "text"
      },
      "source": [
        "TO DO: Create an array A_data with 100 uniform random numbers in  [lower, upper) using np.random.random().\n",
        "\n",
        "Then, print A_data."
      ]
    },
    {
      "cell_type": "code",
      "metadata": {
        "id": "eCgTaN_RfRvq",
        "colab_type": "code",
        "colab": {
          "base_uri": "https://localhost:8080/",
          "height": 316
        },
        "outputId": "c7dff837-598f-40a1-edab-282b9a884d21"
      },
      "source": [
        "A_data = np.random.random(range) * range\n",
        "print(A_data)"
      ],
      "execution_count": 4,
      "outputs": [
        {
          "output_type": "stream",
          "text": [
            "[13.87486474 82.89710449 60.41373273 50.37185311 15.87110789 11.26741882\n",
            " 96.22147435  3.89468528 39.12644091 51.43713493 33.351053   15.65317054\n",
            "  1.07980817 26.69121647 86.65184823  3.8674176  11.83897224 98.19391963\n",
            " 59.32519308 57.54180882 22.04433128 45.21481837 32.58825963 49.43781481\n",
            " 35.48301904  6.9155721  97.12945653 25.56219861 20.62939416  7.80856056\n",
            " 16.61558657 34.06970363  4.74235359 14.79057007 24.14081436 46.0671496\n",
            " 76.15672754 65.3989074  39.52074874 36.765573   99.05103768  9.49915086\n",
            " 37.41534905 51.78822269 59.43810318 63.46683841 60.95639518 73.19660592\n",
            " 67.0614778  39.03384895 73.46201435 64.83483326 61.09196032 43.36250798\n",
            " 31.81353684 97.95791587  6.6336097   4.63294058 77.58282522 69.10309958\n",
            " 10.40435869 23.63490262 20.25917723 30.01432297 80.62676381 82.35536082\n",
            " 42.84563512 75.00620968 42.63322906 26.10271784 15.02578158 11.00248958\n",
            " 93.06224783 30.82792807 69.98020152 63.09869077  2.11412186  8.04208404\n",
            " 15.39661961 25.47522404 22.63755705 83.78961372 57.7745949   3.94124485\n",
            " 53.77223535 60.12806606 33.67796458 33.91852973 39.1868193  83.576842\n",
            "  6.42413265 33.30839677 80.899578   26.10829411 82.88303115 50.16326409\n",
            " 90.80453358 92.01146556 46.00250711  6.45784685]\n"
          ],
          "name": "stdout"
        }
      ]
    },
    {
      "cell_type": "markdown",
      "metadata": {
        "id": "KcCOzeabpbTb",
        "colab_type": "text"
      },
      "source": [
        "TO DO: Print the mean and standard deviation of A_data."
      ]
    },
    {
      "cell_type": "code",
      "metadata": {
        "id": "Y4eVtr37ST-I",
        "colab_type": "code",
        "colab": {
          "base_uri": "https://localhost:8080/",
          "height": 52
        },
        "outputId": "eccfc633-f12b-4789-8f43-72543f4fae4f"
      },
      "source": [
        "print(\"mean of A_data =\", np.mean(A_data))\n",
        "print(\"stdev of A_data =\", np.std(A_data))"
      ],
      "execution_count": 5,
      "outputs": [
        {
          "output_type": "stream",
          "text": [
            "mean of A_data = 43.67408642187343\n",
            "stdev of A_data = 28.46050931250519\n"
          ],
          "name": "stdout"
        }
      ]
    },
    {
      "cell_type": "markdown",
      "metadata": {
        "id": "IElTu4xTpkg7",
        "colab_type": "text"
      },
      "source": [
        "TO DO: Create an array A_label filled with zeros. The length of the array should be the same as A_data.\n",
        "\n",
        "Then, print A_label."
      ]
    },
    {
      "cell_type": "code",
      "metadata": {
        "id": "Lh36wMDESoCe",
        "colab_type": "code",
        "colab": {
          "base_uri": "https://localhost:8080/",
          "height": 105
        },
        "outputId": "56beb461-1c35-41e2-a277-113c22127a8e"
      },
      "source": [
        "A_label = np.zeros(len(A_data))\n",
        "print(A_label)"
      ],
      "execution_count": 6,
      "outputs": [
        {
          "output_type": "stream",
          "text": [
            "[0. 0. 0. 0. 0. 0. 0. 0. 0. 0. 0. 0. 0. 0. 0. 0. 0. 0. 0. 0. 0. 0. 0. 0.\n",
            " 0. 0. 0. 0. 0. 0. 0. 0. 0. 0. 0. 0. 0. 0. 0. 0. 0. 0. 0. 0. 0. 0. 0. 0.\n",
            " 0. 0. 0. 0. 0. 0. 0. 0. 0. 0. 0. 0. 0. 0. 0. 0. 0. 0. 0. 0. 0. 0. 0. 0.\n",
            " 0. 0. 0. 0. 0. 0. 0. 0. 0. 0. 0. 0. 0. 0. 0. 0. 0. 0. 0. 0. 0. 0. 0. 0.\n",
            " 0. 0. 0. 0.]\n"
          ],
          "name": "stdout"
        }
      ]
    },
    {
      "cell_type": "markdown",
      "metadata": {
        "id": "00LC6Dr5p9qD",
        "colab_type": "text"
      },
      "source": [
        "TO DO: Creat a 100x2 array A by concatenating A_data and A_label along horizontal axis.\n",
        "\n",
        "Then, print the first 10 rows of A."
      ]
    },
    {
      "cell_type": "code",
      "metadata": {
        "id": "_16Uhqd8TNGl",
        "colab_type": "code",
        "colab": {
          "base_uri": "https://localhost:8080/",
          "height": 193
        },
        "outputId": "6b7b01f3-cae0-432f-fdb3-dc4d8f3de5e8"
      },
      "source": [
        "A_data = np.expand_dims(A_data,axis=0)\n",
        "A_label = np.expand_dims(A_label,axis=0)\n",
        "A = np.concatenate((A_data.T,A_label.T),axis=1)\n",
        "print(A[:10])"
      ],
      "execution_count": 7,
      "outputs": [
        {
          "output_type": "stream",
          "text": [
            "[[13.87486474  0.        ]\n",
            " [82.89710449  0.        ]\n",
            " [60.41373273  0.        ]\n",
            " [50.37185311  0.        ]\n",
            " [15.87110789  0.        ]\n",
            " [11.26741882  0.        ]\n",
            " [96.22147435  0.        ]\n",
            " [ 3.89468528  0.        ]\n",
            " [39.12644091  0.        ]\n",
            " [51.43713493  0.        ]]\n"
          ],
          "name": "stdout"
        }
      ]
    },
    {
      "cell_type": "markdown",
      "metadata": {
        "id": "CGKgpolfrR7c",
        "colab_type": "text"
      },
      "source": [
        "TO DO: Create an array B_data with 100 Gaussian random numbers $N(35, 10^2)$ using np.random.normal().\n",
        "\n",
        "Then, print B_data."
      ]
    },
    {
      "cell_type": "code",
      "metadata": {
        "id": "o3pa82FofV58",
        "colab_type": "code",
        "colab": {
          "base_uri": "https://localhost:8080/",
          "height": 316
        },
        "outputId": "aafe50dd-a422-4668-bec4-ab6d60cfc155"
      },
      "source": [
        "B_data = np.random.normal(loc=35,scale=10,size=100)\n",
        "print(B_data)"
      ],
      "execution_count": 8,
      "outputs": [
        {
          "output_type": "stream",
          "text": [
            "[56.05814124 55.33900003 32.3326308  34.31164864 31.08503401 52.40723834\n",
            " 23.73122796 46.30706854 44.10484135 35.0518713  36.22132286 29.67549816\n",
            " 34.22059008 23.73553496 15.74639027 40.98955569 12.60603528 25.6939208\n",
            " 42.78661876 45.52534132 43.73227942 42.17849393 41.15391646 36.49488167\n",
            " 25.06495064 33.68328901 21.2302098  46.67551024 36.30184525 25.89613236\n",
            " 35.04067553 27.92431386 33.64803978 23.9689579  31.79550987 31.56769967\n",
            " 29.28244146 33.82369676 41.41121249 36.09778288 48.26282533 38.37230393\n",
            " 45.21279992 37.8796182  41.68803907 21.0762968  20.21072777 43.94496981\n",
            " 42.70393819 38.66652585 34.6182723  35.03626865 39.30573238 22.80792391\n",
            " 36.98730167 33.28082163 32.47625682 43.0406016  33.70186293 32.34054686\n",
            " 29.98253005 50.13326961 40.68043717 47.73959527 41.34073435 31.49615251\n",
            " 34.4774982  50.63968847 36.76952433 32.48632913 47.24468695 43.65284355\n",
            " 31.00863863 27.61423902 26.31681333 40.23776187 51.75313301 38.40231698\n",
            " 41.77900356 26.36003703 40.95370089 15.66768262 46.66541133 36.96931983\n",
            " 36.18622267 13.92799808 44.63791243 42.37612086 32.88748697 32.69606383\n",
            " 31.98090165 38.19649466 12.62232006 41.10496846 45.51511346 34.4242644\n",
            " 28.48587581 30.0949422  27.38380072 34.13078707]\n"
          ],
          "name": "stdout"
        }
      ]
    },
    {
      "cell_type": "markdown",
      "metadata": {
        "id": "_Ru5YxOwugfw",
        "colab_type": "text"
      },
      "source": [
        "TO DO: Print the mean and standard deviation of B_data."
      ]
    },
    {
      "cell_type": "code",
      "metadata": {
        "id": "nXLdu1_TSxvc",
        "colab_type": "code",
        "colab": {
          "base_uri": "https://localhost:8080/",
          "height": 52
        },
        "outputId": "4f513703-70be-49ed-e7f2-1f796b0dbe61"
      },
      "source": [
        "print(\"mean of B_data =\", np.mean(B_data))\n",
        "print(\"stdev of B_data =\", np.std(B_data))"
      ],
      "execution_count": 9,
      "outputs": [
        {
          "output_type": "stream",
          "text": [
            "mean of B_data = 35.53537604034077\n",
            "stdev of B_data = 9.188081624480118\n"
          ],
          "name": "stdout"
        }
      ]
    },
    {
      "cell_type": "markdown",
      "metadata": {
        "id": "E2R8jP0VukUv",
        "colab_type": "text"
      },
      "source": [
        "TO DO: Create an array B_label filled with ones. The length of the array should be the same as B_data.\n",
        "\n",
        "Then, print B_label."
      ]
    },
    {
      "cell_type": "code",
      "metadata": {
        "id": "OgsvTKwlSvUF",
        "colab_type": "code",
        "colab": {
          "base_uri": "https://localhost:8080/",
          "height": 105
        },
        "outputId": "29845ae4-8233-4f5b-b68f-3a5eb09164b6"
      },
      "source": [
        "B_label = np.ones(len(B_data))\n",
        "print(B_label)"
      ],
      "execution_count": 10,
      "outputs": [
        {
          "output_type": "stream",
          "text": [
            "[1. 1. 1. 1. 1. 1. 1. 1. 1. 1. 1. 1. 1. 1. 1. 1. 1. 1. 1. 1. 1. 1. 1. 1.\n",
            " 1. 1. 1. 1. 1. 1. 1. 1. 1. 1. 1. 1. 1. 1. 1. 1. 1. 1. 1. 1. 1. 1. 1. 1.\n",
            " 1. 1. 1. 1. 1. 1. 1. 1. 1. 1. 1. 1. 1. 1. 1. 1. 1. 1. 1. 1. 1. 1. 1. 1.\n",
            " 1. 1. 1. 1. 1. 1. 1. 1. 1. 1. 1. 1. 1. 1. 1. 1. 1. 1. 1. 1. 1. 1. 1. 1.\n",
            " 1. 1. 1. 1.]\n"
          ],
          "name": "stdout"
        }
      ]
    },
    {
      "cell_type": "markdown",
      "metadata": {
        "id": "ujWuWumLup7n",
        "colab_type": "text"
      },
      "source": [
        "TO DO: Creat a 100x2 array B by concatenating B_data and B_label along horizontal axis.\n",
        "\n",
        "Then, print the first 10 rows of B."
      ]
    },
    {
      "cell_type": "code",
      "metadata": {
        "id": "qfFQePcif4O5",
        "colab_type": "code",
        "colab": {
          "base_uri": "https://localhost:8080/",
          "height": 193
        },
        "outputId": "4afdd1cd-f025-4eb6-e506-d3cc39a0a145"
      },
      "source": [
        "B_data = np.expand_dims(B_data,axis=0)\n",
        "B_label = np.expand_dims(B_label,axis=0)\n",
        "B = np.concatenate((B_data.T,B_label.T),axis=1)\n",
        "print(B[:10])"
      ],
      "execution_count": 11,
      "outputs": [
        {
          "output_type": "stream",
          "text": [
            "[[56.05814124  1.        ]\n",
            " [55.33900003  1.        ]\n",
            " [32.3326308   1.        ]\n",
            " [34.31164864  1.        ]\n",
            " [31.08503401  1.        ]\n",
            " [52.40723834  1.        ]\n",
            " [23.73122796  1.        ]\n",
            " [46.30706854  1.        ]\n",
            " [44.10484135  1.        ]\n",
            " [35.0518713   1.        ]]\n"
          ],
          "name": "stdout"
        }
      ]
    },
    {
      "cell_type": "markdown",
      "metadata": {
        "id": "mhWAsTTJutAp",
        "colab_type": "text"
      },
      "source": [
        "TO DO: Print the histograms of A_data and B_data using np.hisogram(). The histograms have 10 bins and its range is from lower to upper.\n",
        "\n",
        "Then, display the two histograms"
      ]
    },
    {
      "cell_type": "code",
      "metadata": {
        "id": "fucquM2HgXHl",
        "colab_type": "code",
        "colab": {
          "base_uri": "https://localhost:8080/",
          "height": 72
        },
        "outputId": "0ea27b2c-abc5-4c33-9456-7b42552ecc2c"
      },
      "source": [
        "print(np.histogram(A_data,bins,(lower,upper)))\n",
        "print(np.histogram(B_data,bins,(lower,upper)))"
      ],
      "execution_count": 12,
      "outputs": [
        {
          "output_type": "stream",
          "text": [
            "(array([14, 11, 11, 16,  7,  9, 11,  5,  8,  8]), array([  0.,  10.,  20.,  30.,  40.,  50.,  60.,  70.,  80.,  90., 100.]))\n",
            "(array([ 0,  5, 19, 41, 29,  6,  0,  0,  0,  0]), array([  0.,  10.,  20.,  30.,  40.,  50.,  60.,  70.,  80.,  90., 100.]))\n"
          ],
          "name": "stdout"
        }
      ]
    },
    {
      "cell_type": "markdown",
      "metadata": {
        "id": "YmQzkVPjwlom",
        "colab_type": "text"
      },
      "source": [
        "TO DO: Create a 200x2 array D by concatenating A and B.\n",
        "\n",
        "Shuffle the rows of D using np.rand.shuffle().\n",
        "\n",
        "Then, display the first 20 rows of D.\n"
      ]
    },
    {
      "cell_type": "code",
      "metadata": {
        "id": "G5q66edGj6AA",
        "colab_type": "code",
        "colab": {
          "base_uri": "https://localhost:8080/",
          "height": 369
        },
        "outputId": "8a3ece99-fda5-428a-99a6-9c19db78e405"
      },
      "source": [
        "D = np.concatenate(([A],[B]),axis=1)\n",
        "D = np.squeeze(D)\n",
        "np.random.shuffle(D)\n",
        "\n",
        "print(D[:20])"
      ],
      "execution_count": 13,
      "outputs": [
        {
          "output_type": "stream",
          "text": [
            "[[25.06495064  1.        ]\n",
            " [80.62676381  0.        ]\n",
            " [31.49615251  1.        ]\n",
            " [26.10829411  0.        ]\n",
            " [37.41534905  0.        ]\n",
            " [26.69121647  0.        ]\n",
            " [31.08503401  1.        ]\n",
            " [36.49488167  1.        ]\n",
            " [45.21481837  0.        ]\n",
            " [40.95370089  1.        ]\n",
            " [23.73553496  1.        ]\n",
            " [40.98955569  1.        ]\n",
            " [33.30839677  0.        ]\n",
            " [40.23776187  1.        ]\n",
            " [42.63322906  0.        ]\n",
            " [67.0614778   0.        ]\n",
            " [90.80453358  0.        ]\n",
            " [22.80792391  1.        ]\n",
            " [43.0406016   1.        ]\n",
            " [51.78822269  0.        ]]\n"
          ],
          "name": "stdout"
        }
      ]
    },
    {
      "cell_type": "markdown",
      "metadata": {
        "id": "3k8h_4s8s51Y",
        "colab_type": "text"
      },
      "source": [
        "# matplotlib practice"
      ]
    },
    {
      "cell_type": "code",
      "metadata": {
        "id": "WiNLBgc_WGlg",
        "colab_type": "code",
        "colab": {}
      },
      "source": [
        "import matplotlib.pyplot as plt"
      ],
      "execution_count": 14,
      "outputs": []
    },
    {
      "cell_type": "markdown",
      "metadata": {
        "id": "aB1ajjRLx5vx",
        "colab_type": "text"
      },
      "source": [
        "TO DO: draw the histograms of A_data and B_data as the following example. Use plt.subplot() and plt.hist().\n",
        "\n",
        "The histograms have 10 bins and their ranges are [0, 100)."
      ]
    },
    {
      "cell_type": "code",
      "metadata": {
        "id": "fqxnTeUCXsdQ",
        "colab_type": "code",
        "colab": {
          "base_uri": "https://localhost:8080/",
          "height": 318
        },
        "outputId": "a4a34be9-3d4b-4724-ed20-368061571992"
      },
      "source": [
        "A_data = np.squeeze(A_data)\n",
        "B_data = np.squeeze(B_data)\n",
        "plt.subplot(2,1,1)\n",
        "plt.hist(A_data,bins=bins,range=(lower,upper))\n",
        "plt.subplot(2,1,2)\n",
        "plt.hist(B_data,bins=bins,range=(lower,upper))"
      ],
      "execution_count": 20,
      "outputs": [
        {
          "output_type": "execute_result",
          "data": {
            "text/plain": [
              "(array([ 0.,  5., 19., 41., 29.,  6.,  0.,  0.,  0.,  0.]),\n",
              " array([  0.,  10.,  20.,  30.,  40.,  50.,  60.,  70.,  80.,  90., 100.]),\n",
              " <a list of 10 Patch objects>)"
            ]
          },
          "metadata": {
            "tags": []
          },
          "execution_count": 20
        },
        {
          "output_type": "display_data",
          "data": {
            "image/png": "[encoded data removed]",
            "text/plain": [
              "<Figure size 432x288 with 2 Axes>"
            ]
          },
          "metadata": {
            "tags": [],
            "needs_background": "light"
          }
        }
      ]
    },
    {
      "cell_type": "markdown",
      "metadata": {
        "id": "oBVpO8ABy9k2",
        "colab_type": "text"
      },
      "source": [
        "TO DO: draw the histogram of the first column of D. Use [] and : operators to retrieve the first column of D."
      ]
    },
    {
      "cell_type": "code",
      "metadata": {
        "id": "dxt1vJO-mwmZ",
        "colab_type": "code",
        "colab": {
          "base_uri": "https://localhost:8080/",
          "height": 318
        },
        "outputId": "54e51354-768f-459a-91c2-0177d0c788a3"
      },
      "source": [
        "plt.subplot(1,1,1)\n",
        "plt.hist(D[:,0],bins,(lower,upper))"
      ],
      "execution_count": 29,
      "outputs": [
        {
          "output_type": "execute_result",
          "data": {
            "text/plain": [
              "(array([14., 16., 30., 57., 36., 15., 11.,  5.,  8.,  8.]),\n",
              " array([  0.,  10.,  20.,  30.,  40.,  50.,  60.,  70.,  80.,  90., 100.]),\n",
              " <a list of 10 Patch objects>)"
            ]
          },
          "metadata": {
            "tags": []
          },
          "execution_count": 29
        },
        {
          "output_type": "display_data",
          "data": {
            "image/png": "[encoded data removed]",
            "text/plain": [
              "<Figure size 432x288 with 1 Axes>"
            ]
          },
          "metadata": {
            "tags": [],
            "needs_background": "light"
          }
        }
      ]
    },
    {
      "cell_type": "markdown",
      "metadata": {
        "id": "wdGGKkq-s_iQ",
        "colab_type": "text"
      },
      "source": [
        "# pandas practice"
      ]
    },
    {
      "cell_type": "code",
      "metadata": {
        "id": "-7N4o7U3tDC5",
        "colab_type": "code",
        "colab": {}
      },
      "source": [
        "import pandas as pd"
      ],
      "execution_count": 33,
      "outputs": []
    },
    {
      "cell_type": "markdown",
      "metadata": {
        "id": "cuxz3JcN1CHF",
        "colab_type": "text"
      },
      "source": [
        "TO DO: create a DataFrame df from numpy array D. Set the column names by ['X', 'Y']"
      ]
    },
    {
      "cell_type": "code",
      "metadata": {
        "id": "zyCMfzbPtFVN",
        "colab_type": "code",
        "colab": {}
      },
      "source": [
        "df = pd.DataFrame(data=D,columns=['X','Y'])"
      ],
      "execution_count": 34,
      "outputs": []
    },
    {
      "cell_type": "markdown",
      "metadata": {
        "id": "pWOytaKK1QuE",
        "colab_type": "text"
      },
      "source": [
        "TO DO: display count, mean, std, and the five-number summary using describe()."
      ]
    },
    {
      "cell_type": "code",
      "metadata": {
        "id": "talpQMmvtOHd",
        "colab_type": "code",
        "colab": {
          "base_uri": "https://localhost:8080/",
          "height": 284
        },
        "outputId": "78e6feda-a888-4c05-89b0-90a9f5ad5cda"
      },
      "source": [
        "df.describe()"
      ],
      "execution_count": 37,
      "outputs": [
        {
          "output_type": "execute_result",
          "data": {
            "text/html": [
              "<div>\n",
              "<style scoped>\n",
              "    .dataframe tbody tr th:only-of-type {\n",
              "        vertical-align: middle;\n",
              "    }\n",
              "\n",
              "    .dataframe tbody tr th {\n",
              "        vertical-align: top;\n",
              "    }\n",
              "\n",
              "    .dataframe thead th {\n",
              "        text-align: right;\n",
              "    }\n",
              "</style>\n",
              "<table border=\"1\" class=\"dataframe\">\n",
              "  <thead>\n",
              "    <tr style=\"text-align: right;\">\n",
              "      <th></th>\n",
              "      <th>X</th>\n",
              "      <th>Y</th>\n",
              "    </tr>\n",
              "  </thead>\n",
              "  <tbody>\n",
              "    <tr>\n",
              "      <th>count</th>\n",
              "      <td>200.000000</td>\n",
              "      <td>200.000000</td>\n",
              "    </tr>\n",
              "    <tr>\n",
              "      <th>mean</th>\n",
              "      <td>39.604731</td>\n",
              "      <td>0.500000</td>\n",
              "    </tr>\n",
              "    <tr>\n",
              "      <th>std</th>\n",
              "      <td>21.589369</td>\n",
              "      <td>0.501255</td>\n",
              "    </tr>\n",
              "    <tr>\n",
              "      <th>min</th>\n",
              "      <td>1.079808</td>\n",
              "      <td>0.000000</td>\n",
              "    </tr>\n",
              "    <tr>\n",
              "      <th>25%</th>\n",
              "      <td>26.264684</td>\n",
              "      <td>0.000000</td>\n",
              "    </tr>\n",
              "    <tr>\n",
              "      <th>50%</th>\n",
              "      <td>36.261584</td>\n",
              "      <td>0.500000</td>\n",
              "    </tr>\n",
              "    <tr>\n",
              "      <th>75%</th>\n",
              "      <td>47.368414</td>\n",
              "      <td>1.000000</td>\n",
              "    </tr>\n",
              "    <tr>\n",
              "      <th>max</th>\n",
              "      <td>99.051038</td>\n",
              "      <td>1.000000</td>\n",
              "    </tr>\n",
              "  </tbody>\n",
              "</table>\n",
              "</div>"
            ],
            "text/plain": [
              "                X           Y\n",
              "count  200.000000  200.000000\n",
              "mean    39.604731    0.500000\n",
              "std     21.589369    0.501255\n",
              "min      1.079808    0.000000\n",
              "25%     26.264684    0.000000\n",
              "50%     36.261584    0.500000\n",
              "75%     47.368414    1.000000\n",
              "max     99.051038    1.000000"
            ]
          },
          "metadata": {
            "tags": []
          },
          "execution_count": 37
        }
      ]
    },
    {
      "cell_type": "markdown",
      "metadata": {
        "id": "QKZQDF1T10v1",
        "colab_type": "text"
      },
      "source": [
        "TO DO: draw the histogram of df using hist().\n",
        "\n"
      ]
    },
    {
      "cell_type": "code",
      "metadata": {
        "id": "bS4o_1DbtRtD",
        "colab_type": "code",
        "colab": {
          "base_uri": "https://localhost:8080/",
          "height": 298
        },
        "outputId": "565418ee-ae31-4610-a791-799803311194"
      },
      "source": [
        "plt.subplot(1,2,1)\n",
        "plt.hist(df['X'])\n",
        "plt.title('X')\n",
        "plt.subplot(1,2,2)\n",
        "plt.hist(df['Y'])\n",
        "plt.title('Y')"
      ],
      "execution_count": 41,
      "outputs": [
        {
          "output_type": "execute_result",
          "data": {
            "text/plain": [
              "Text(0.5, 1.0, 'Y')"
            ]
          },
          "metadata": {
            "tags": []
          },
          "execution_count": 41
        },
        {
          "output_type": "display_data",
          "data": {
            "image/png": "[encoded data removed]",
            "text/plain": [
              "<Figure size 432x288 with 2 Axes>"
            ]
          },
          "metadata": {
            "tags": [],
            "needs_background": "light"
          }
        }
      ]
    },
    {
      "cell_type": "markdown",
      "metadata": {
        "id": "wFTNVi6n1-Pz",
        "colab_type": "text"
      },
      "source": [
        "TO DO: draw the scatter matrix of df using pd.plotting.scatter_matrix()."
      ]
    },
    {
      "cell_type": "code",
      "metadata": {
        "id": "ep6oKZSSzx-J",
        "colab_type": "code",
        "colab": {
          "base_uri": "https://localhost:8080/",
          "height": 377
        },
        "outputId": "2fe36e7a-cddd-4fd4-c19c-2c8962f63683"
      },
      "source": [
        "pd.plotting.scatter_matrix(df)"
      ],
      "execution_count": 42,
      "outputs": [
        {
          "output_type": "execute_result",
          "data": {
            "text/plain": [
              "array([[<matplotlib.axes._subplots.AxesSubplot object at 0x7f7f0bc28240>,\n",
              "        <matplotlib.axes._subplots.AxesSubplot object at 0x7f7f0bafb2b0>],\n",
              "       [<matplotlib.axes._subplots.AxesSubplot object at 0x7f7f0baad518>,\n",
              "        <matplotlib.axes._subplots.AxesSubplot object at 0x7f7f0ba62780>]],\n",
              "      dtype=object)"
            ]
          },
          "metadata": {
            "tags": []
          },
          "execution_count": 42
        },
        {
          "output_type": "display_data",
          "data": {
            "image/png": "[encoded data removed]",
            "text/plain": [
              "<Figure size 432x288 with 4 Axes>"
            ]
          },
          "metadata": {
            "tags": [],
            "needs_background": "light"
          }
        }
      ]
    },
    {
      "cell_type": "markdown",
      "metadata": {
        "id": "wPaczh1I2MA8",
        "colab_type": "text"
      },
      "source": [
        "TO DO: save df into a text file './D.csv'."
      ]
    },
    {
      "cell_type": "code",
      "metadata": {
        "id": "AbrweN1Xz3U_",
        "colab_type": "code",
        "colab": {}
      },
      "source": [
        "df.to_csv('./D.csv')"
      ],
      "execution_count": 69,
      "outputs": []
    },
    {
      "cell_type": "markdown",
      "metadata": {
        "id": "-BfJufls2SkM",
        "colab_type": "text"
      },
      "source": [
        "TO DO: display the file list of the current directory to check D.csv was successfully created"
      ]
    },
    {
      "cell_type": "code",
      "metadata": {
        "id": "BG7CKek-0Isq",
        "colab_type": "code",
        "colab": {
          "base_uri": "https://localhost:8080/",
          "height": 34
        },
        "outputId": "bafd0e4e-8607-49af-9281-a2a52d689afb"
      },
      "source": [
        "!ls"
      ],
      "execution_count": 70,
      "outputs": [
        {
          "output_type": "stream",
          "text": [
            "D.csv  sample_data\n"
          ],
          "name": "stdout"
        }
      ]
    },
    {
      "cell_type": "markdown",
      "metadata": {
        "id": "CEwPwFBj2cwd",
        "colab_type": "text"
      },
      "source": [
        "TO DO: display the first 20 lines of D.csv using the UNIX command 'head'."
      ]
    },
    {
      "cell_type": "code",
      "metadata": {
        "id": "OsN7VJNH0bzY",
        "colab_type": "code",
        "colab": {
          "base_uri": "https://localhost:8080/",
          "height": 369
        },
        "outputId": "f7b90157-2bc8-49f8-d625-b470f3c4258f"
      },
      "source": [
        "!head -n 20 D.csv"
      ],
      "execution_count": 71,
      "outputs": [
        {
          "output_type": "stream",
          "text": [
            ",X,Y\n",
            "0,25.06495063662854,1.0\n",
            "1,80.62676381296151,0.0\n",
            "2,31.4961525096085,1.0\n",
            "3,26.108294112453613,0.0\n",
            "4,37.41534904719346,0.0\n",
            "5,26.69121646767696,0.0\n",
            "6,31.085034013607476,1.0\n",
            "7,36.49488166834023,1.0\n",
            "8,45.21481836674863,0.0\n",
            "9,40.95370088549714,1.0\n",
            "10,23.7355349619963,1.0\n",
            "11,40.98955569377039,1.0\n",
            "12,33.30839676649605,0.0\n",
            "13,40.23776186981007,1.0\n",
            "14,42.63322905852106,0.0\n",
            "15,67.06147779734121,0.0\n",
            "16,90.80453358304837,0.0\n",
            "17,22.807923913871413,1.0\n",
            "18,43.040601599840606,1.0\n"
          ],
          "name": "stdout"
        }
      ]
    }
  ]
}