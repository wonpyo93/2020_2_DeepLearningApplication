{
  "nbformat": 4,
  "nbformat_minor": 0,
  "metadata": {
    "colab": {
      "name": "21701065_HW_3_linear_classifiers.ipynb",
      "provenance": [],
      "collapsed_sections": []
    },
    "kernelspec": {
      "name": "python3",
      "display_name": "Python 3"
    }
  },
  "cells": [
    {
      "cell_type": "code",
      "metadata": {
        "id": "zRMDSYJzIVoN"
      },
      "source": [
        "import numpy as np\n",
        "import sklearn as sk\n",
        "from sklearn.model_selection import train_test_split"
      ],
      "execution_count": 171,
      "outputs": []
    },
    {
      "cell_type": "markdown",
      "metadata": {
        "id": "pKzPfWGw_uJb"
      },
      "source": [
        "TO DO: import load_wine from sklearn.datasets\n",
        " Then, create an instance __dataset__ by calling load_wine()"
      ]
    },
    {
      "cell_type": "code",
      "metadata": {
        "id": "38JjqKgiLVkb"
      },
      "source": [
        "from sklearn.datasets import load_wine\n",
        "dataset = load_wine()"
      ],
      "execution_count": 172,
      "outputs": []
    },
    {
      "cell_type": "markdown",
      "metadata": {
        "id": "xNg7UCY3_-Vq"
      },
      "source": [
        "TO DO: Display dataset.keys() and the elements of dataset."
      ]
    },
    {
      "cell_type": "code",
      "metadata": {
        "id": "X3r1_VXrLdbp",
        "outputId": "e248e440-e34b-454b-9dc9-40f8cecb5c3f",
        "colab": {
          "base_uri": "https://localhost:8080/",
          "height": 34
        }
      },
      "source": [
        "print(dataset.keys())"
      ],
      "execution_count": 173,
      "outputs": [
        {
          "output_type": "stream",
          "text": [
            "dict_keys(['data', 'target', 'target_names', 'DESCR', 'feature_names'])\n"
          ],
          "name": "stdout"
        }
      ]
    },
    {
      "cell_type": "code",
      "metadata": {
        "id": "TPvRsK5dLq6I",
        "outputId": "316f03b2-cb58-42b6-c20f-7a27db482dac",
        "colab": {
          "base_uri": "https://localhost:8080/",
          "height": 1000
        }
      },
      "source": [
        "print(dataset.DESCR)"
      ],
      "execution_count": 174,
      "outputs": [
        {
          "output_type": "stream",
          "text": [
            ".. _wine_dataset:\n",
            "\n",
            "Wine recognition dataset\n",
            "------------------------\n",
            "\n",
            "**Data Set Characteristics:**\n",
            "\n",
            "    :Number of Instances: 178 (50 in each of three classes)\n",
            "    :Number of Attributes: 13 numeric, predictive attributes and the class\n",
            "    :Attribute Information:\n",
            " \t\t- Alcohol\n",
            " \t\t- Malic acid\n",
            " \t\t- Ash\n",
            "\t\t- Alcalinity of ash  \n",
            " \t\t- Magnesium\n",
            "\t\t- Total phenols\n",
            " \t\t- Flavanoids\n",
            " \t\t- Nonflavanoid phenols\n",
            " \t\t- Proanthocyanins\n",
            "\t\t- Color intensity\n",
            " \t\t- Hue\n",
            " \t\t- OD280/OD315 of diluted wines\n",
            " \t\t- Proline\n",
            "\n",
            "    - class:\n",
            "            - class_0\n",
            "            - class_1\n",
            "            - class_2\n",
            "\t\t\n",
            "    :Summary Statistics:\n",
            "    \n",
            "    ============================= ==== ===== ======= =====\n",
            "                                   Min   Max   Mean     SD\n",
            "    ============================= ==== ===== ======= =====\n",
            "    Alcohol:                      11.0  14.8    13.0   0.8\n",
            "    Malic Acid:                   0.74  5.80    2.34  1.12\n",
            "    Ash:                          1.36  3.23    2.36  0.27\n",
            "    Alcalinity of Ash:            10.6  30.0    19.5   3.3\n",
            "    Magnesium:                    70.0 162.0    99.7  14.3\n",
            "    Total Phenols:                0.98  3.88    2.29  0.63\n",
            "    Flavanoids:                   0.34  5.08    2.03  1.00\n",
            "    Nonflavanoid Phenols:         0.13  0.66    0.36  0.12\n",
            "    Proanthocyanins:              0.41  3.58    1.59  0.57\n",
            "    Colour Intensity:              1.3  13.0     5.1   2.3\n",
            "    Hue:                          0.48  1.71    0.96  0.23\n",
            "    OD280/OD315 of diluted wines: 1.27  4.00    2.61  0.71\n",
            "    Proline:                       278  1680     746   315\n",
            "    ============================= ==== ===== ======= =====\n",
            "\n",
            "    :Missing Attribute Values: None\n",
            "    :Class Distribution: class_0 (59), class_1 (71), class_2 (48)\n",
            "    :Creator: R.A. Fisher\n",
            "    :Donor: Michael Marshall (MARSHALL%PLU@io.arc.nasa.gov)\n",
            "    :Date: July, 1988\n",
            "\n",
            "This is a copy of UCI ML Wine recognition datasets.\n",
            "https://archive.ics.uci.edu/ml/machine-learning-databases/wine/wine.data\n",
            "\n",
            "The data is the results of a chemical analysis of wines grown in the same\n",
            "region in Italy by three different cultivators. There are thirteen different\n",
            "measurements taken for different constituents found in the three types of\n",
            "wine.\n",
            "\n",
            "Original Owners: \n",
            "\n",
            "Forina, M. et al, PARVUS - \n",
            "An Extendible Package for Data Exploration, Classification and Correlation. \n",
            "Institute of Pharmaceutical and Food Analysis and Technologies,\n",
            "Via Brigata Salerno, 16147 Genoa, Italy.\n",
            "\n",
            "Citation:\n",
            "\n",
            "Lichman, M. (2013). UCI Machine Learning Repository\n",
            "[https://archive.ics.uci.edu/ml]. Irvine, CA: University of California,\n",
            "School of Information and Computer Science. \n",
            "\n",
            ".. topic:: References\n",
            "\n",
            "  (1) S. Aeberhard, D. Coomans and O. de Vel, \n",
            "  Comparison of Classifiers in High Dimensional Settings, \n",
            "  Tech. Rep. no. 92-02, (1992), Dept. of Computer Science and Dept. of  \n",
            "  Mathematics and Statistics, James Cook University of North Queensland. \n",
            "  (Also submitted to Technometrics). \n",
            "\n",
            "  The data was used with many others for comparing various \n",
            "  classifiers. The classes are separable, though only RDA \n",
            "  has achieved 100% correct classification. \n",
            "  (RDA : 100%, QDA 99.4%, LDA 98.9%, 1NN 96.1% (z-transformed data)) \n",
            "  (All results using the leave-one-out technique) \n",
            "\n",
            "  (2) S. Aeberhard, D. Coomans and O. de Vel, \n",
            "  \"THE CLASSIFICATION PERFORMANCE OF RDA\" \n",
            "  Tech. Rep. no. 92-01, (1992), Dept. of Computer Science and Dept. of \n",
            "  Mathematics and Statistics, James Cook University of North Queensland. \n",
            "  (Also submitted to Journal of Chemometrics).\n",
            "\n"
          ],
          "name": "stdout"
        }
      ]
    },
    {
      "cell_type": "code",
      "metadata": {
        "id": "wkMdM690lc5E",
        "outputId": "49fc872b-dbd1-408e-8f17-9a7c4b896898",
        "colab": {
          "base_uri": "https://localhost:8080/",
          "height": 54
        }
      },
      "source": [
        "print(dataset.feature_names)"
      ],
      "execution_count": 175,
      "outputs": [
        {
          "output_type": "stream",
          "text": [
            "['alcohol', 'malic_acid', 'ash', 'alcalinity_of_ash', 'magnesium', 'total_phenols', 'flavanoids', 'nonflavanoid_phenols', 'proanthocyanins', 'color_intensity', 'hue', 'od280/od315_of_diluted_wines', 'proline']\n"
          ],
          "name": "stdout"
        }
      ]
    },
    {
      "cell_type": "code",
      "metadata": {
        "id": "hTYBz8xhLwUA",
        "outputId": "4a89c4a5-5eda-4252-fec9-c5a7f11fcd4b",
        "colab": {
          "base_uri": "https://localhost:8080/",
          "height": 140
        }
      },
      "source": [
        "print(dataset.data)"
      ],
      "execution_count": 176,
      "outputs": [
        {
          "output_type": "stream",
          "text": [
            "[[1.423e+01 1.710e+00 2.430e+00 ... 1.040e+00 3.920e+00 1.065e+03]\n",
            " [1.320e+01 1.780e+00 2.140e+00 ... 1.050e+00 3.400e+00 1.050e+03]\n",
            " [1.316e+01 2.360e+00 2.670e+00 ... 1.030e+00 3.170e+00 1.185e+03]\n",
            " ...\n",
            " [1.327e+01 4.280e+00 2.260e+00 ... 5.900e-01 1.560e+00 8.350e+02]\n",
            " [1.317e+01 2.590e+00 2.370e+00 ... 6.000e-01 1.620e+00 8.400e+02]\n",
            " [1.413e+01 4.100e+00 2.740e+00 ... 6.100e-01 1.600e+00 5.600e+02]]\n"
          ],
          "name": "stdout"
        }
      ]
    },
    {
      "cell_type": "code",
      "metadata": {
        "id": "dsoGDcRGlZGV",
        "outputId": "e21ce87c-5e36-4c43-bb60-1112efc9b059",
        "colab": {
          "base_uri": "https://localhost:8080/",
          "height": 34
        }
      },
      "source": [
        "print(dataset.target_names)"
      ],
      "execution_count": 177,
      "outputs": [
        {
          "output_type": "stream",
          "text": [
            "['class_0' 'class_1' 'class_2']\n"
          ],
          "name": "stdout"
        }
      ]
    },
    {
      "cell_type": "code",
      "metadata": {
        "id": "xoz5_O0RL8cO",
        "outputId": "8ed7bd8e-6f48-4989-bac6-c66cdd51b12d",
        "colab": {
          "base_uri": "https://localhost:8080/",
          "height": 105
        }
      },
      "source": [
        "print(dataset.target)"
      ],
      "execution_count": 178,
      "outputs": [
        {
          "output_type": "stream",
          "text": [
            "[0 0 0 0 0 0 0 0 0 0 0 0 0 0 0 0 0 0 0 0 0 0 0 0 0 0 0 0 0 0 0 0 0 0 0 0 0\n",
            " 0 0 0 0 0 0 0 0 0 0 0 0 0 0 0 0 0 0 0 0 0 0 1 1 1 1 1 1 1 1 1 1 1 1 1 1 1\n",
            " 1 1 1 1 1 1 1 1 1 1 1 1 1 1 1 1 1 1 1 1 1 1 1 1 1 1 1 1 1 1 1 1 1 1 1 1 1\n",
            " 1 1 1 1 1 1 1 1 1 1 1 1 1 1 1 1 1 1 1 2 2 2 2 2 2 2 2 2 2 2 2 2 2 2 2 2 2\n",
            " 2 2 2 2 2 2 2 2 2 2 2 2 2 2 2 2 2 2 2 2 2 2 2 2 2 2 2 2 2 2]\n"
          ],
          "name": "stdout"
        }
      ]
    },
    {
      "cell_type": "markdown",
      "metadata": {
        "id": "2CbXJoepATMI"
      },
      "source": [
        "TO DO: Split dataset into train and test sets, and print the shape of X_train, y_train, X_test and y_test"
      ]
    },
    {
      "cell_type": "code",
      "metadata": {
        "id": "WXswUsplL-vJ",
        "outputId": "f1fe7c7b-0b1e-4a97-f8f0-2f091e0fa0fe",
        "colab": {
          "base_uri": "https://localhost:8080/",
          "height": 87
        }
      },
      "source": [
        "X = dataset.data\n",
        "y = dataset.target\n",
        "X_train, X_test, y_train, y_test = train_test_split(X,y, random_state=0)\n",
        "print(\"X_train.shape = \", X_train.shape)\n",
        "print(\"y_train.shape = \", y_train.shape)\n",
        "print(\"X_test.shape = \", X_test.shape)\n",
        "print(\"y_test.shape = \", y_test.shape)"
      ],
      "execution_count": 179,
      "outputs": [
        {
          "output_type": "stream",
          "text": [
            "X_train.shape =  (133, 13)\n",
            "y_train.shape =  (133,)\n",
            "X_test.shape =  (45, 13)\n",
            "y_test.shape =  (45,)\n"
          ],
          "name": "stdout"
        }
      ]
    },
    {
      "cell_type": "markdown",
      "metadata": {
        "id": "lX1xxXFyDUMa"
      },
      "source": [
        "TO DO: Build a classifier for the wine dataset using LogisicRegression, and print the accuracy on the training and test data.\n"
      ]
    },
    {
      "cell_type": "code",
      "metadata": {
        "id": "u9sTOX_f1RTl",
        "outputId": "89d44e63-83b6-4cc2-d0ff-86b59b0c9375",
        "colab": {
          "base_uri": "https://localhost:8080/",
          "height": 193
        }
      },
      "source": [
        "from sklearn.linear_model import LogisticRegression\n",
        "lr = LogisticRegression().fit(X_train,y_train)\n",
        "print(\"train score = \", lr.score(X_train, y_train))\n",
        "print(\"test score = \", lr.score(X_test, y_test))"
      ],
      "execution_count": 180,
      "outputs": [
        {
          "output_type": "stream",
          "text": [
            "train score =  0.9924812030075187\n",
            "test score =  0.9333333333333333\n"
          ],
          "name": "stdout"
        },
        {
          "output_type": "stream",
          "text": [
            "/usr/local/lib/python3.6/dist-packages/sklearn/linear_model/_logistic.py:940: ConvergenceWarning: lbfgs failed to converge (status=1):\n",
            "STOP: TOTAL NO. of ITERATIONS REACHED LIMIT.\n",
            "\n",
            "Increase the number of iterations (max_iter) or scale the data as shown in:\n",
            "    https://scikit-learn.org/stable/modules/preprocessing.html\n",
            "Please also refer to the documentation for alternative solver options:\n",
            "    https://scikit-learn.org/stable/modules/linear_model.html#logistic-regression\n",
            "  extra_warning_msg=_LOGISTIC_SOLVER_CONVERGENCE_MSG)\n"
          ],
          "name": "stderr"
        }
      ]
    },
    {
      "cell_type": "markdown",
      "metadata": {
        "id": "RJiONBoRD58c"
      },
      "source": [
        "TO DO: Save the weight matrix and bias vector of the LogisticRegression instance as W_lr and b_lr. Then, print them."
      ]
    },
    {
      "cell_type": "code",
      "metadata": {
        "id": "Qh1T4ZYv5RL4",
        "outputId": "cee0cfea-ba70-4269-8761-9ab93efd2227",
        "colab": {
          "base_uri": "https://localhost:8080/",
          "height": 246
        }
      },
      "source": [
        "W_lr = lr.coef_\n",
        "b_lr = lr.intercept_\n",
        "print(W_lr)\n",
        "print(b_lr)"
      ],
      "execution_count": 181,
      "outputs": [
        {
          "output_type": "stream",
          "text": [
            "[[-1.32186429e-01  3.23965050e-01  1.84092284e-01 -2.58932260e-01\n",
            "  -3.55944236e-02  2.38697315e-01  5.82114322e-01 -2.22946486e-02\n",
            "   9.92276027e-02  1.09948852e-01 -1.73973402e-02  4.10341111e-01\n",
            "   8.36031752e-03]\n",
            " [ 5.99095455e-01 -7.17070268e-01 -2.00230225e-01  2.11071050e-01\n",
            "  -1.04352065e-02  2.06746427e-01  3.95799510e-01  1.36191938e-02\n",
            "   3.85959371e-01 -1.24982865e+00  2.65765529e-01  4.38399876e-01\n",
            "  -8.01466640e-03]\n",
            " [-4.66909026e-01  3.93105218e-01  1.61379407e-02  4.78612099e-02\n",
            "   4.60296301e-02 -4.45443742e-01 -9.77913832e-01  8.67545481e-03\n",
            "  -4.85186974e-01  1.13987979e+00 -2.48368189e-01 -8.48740987e-01\n",
            "  -3.45651121e-04]]\n",
            "[-0.04937168  0.10908187 -0.05971019]\n"
          ],
          "name": "stdout"
        }
      ]
    },
    {
      "cell_type": "markdown",
      "metadata": {
        "id": "alKUm1U8Edmz"
      },
      "source": [
        "TO DO: Build a classifier for the wine dataset using LinearSVC, and print the accuracy on the training and test data."
      ]
    },
    {
      "cell_type": "code",
      "metadata": {
        "id": "Yyl-vVDQmD1N",
        "outputId": "5d9c8580-d4eb-424e-cba1-59e5faeb2e17",
        "colab": {
          "base_uri": "https://localhost:8080/",
          "height": 87
        }
      },
      "source": [
        "from sklearn.svm import LinearSVC\n",
        "\n",
        "linearSVC = LinearSVC().fit(X_train,y_train)\n",
        "print(\"train score = \", linearSVC.score(X_train, y_train))\n",
        "print(\"test score = \", linearSVC.score(X_test, y_test))"
      ],
      "execution_count": 182,
      "outputs": [
        {
          "output_type": "stream",
          "text": [
            "train score =  0.7894736842105263\n",
            "test score =  0.7111111111111111\n"
          ],
          "name": "stdout"
        },
        {
          "output_type": "stream",
          "text": [
            "/usr/local/lib/python3.6/dist-packages/sklearn/svm/_base.py:947: ConvergenceWarning: Liblinear failed to converge, increase the number of iterations.\n",
            "  \"the number of iterations.\", ConvergenceWarning)\n"
          ],
          "name": "stderr"
        }
      ]
    },
    {
      "cell_type": "markdown",
      "metadata": {
        "id": "xoUZ6HwWE35T"
      },
      "source": [
        "TO DO: Save the weight matrix and bias vector of the LinearSVC instance as W_svc and b_svc. Then, print them."
      ]
    },
    {
      "cell_type": "code",
      "metadata": {
        "id": "JxPkuSWsuoiV",
        "outputId": "cb1d92b9-b62c-444b-dc64-c98058a4cec3",
        "colab": {
          "base_uri": "https://localhost:8080/",
          "height": 246
        }
      },
      "source": [
        "W_svc = linearSVC.coef_\n",
        "print(W_svc)\n",
        "b_svc = linearSVC.intercept_\n",
        "print(b_svc)"
      ],
      "execution_count": 183,
      "outputs": [
        {
          "output_type": "stream",
          "text": [
            "[[-2.78880164e-02 -2.15889791e-03 -1.20357533e-03 -1.04462948e-01\n",
            "  -8.10223312e-03  9.95959148e-03  3.05490489e-02 -3.98453276e-03\n",
            "   7.88365556e-03 -1.94485514e-02 -8.41591116e-04  1.69149177e-02\n",
            "   3.30913576e-03]\n",
            " [ 4.62612737e-02 -7.90959000e-02 -6.02056555e-03  3.39273900e-02\n",
            "   6.08386039e-03  4.30510291e-02  7.52166818e-02  1.20786439e-04\n",
            "   4.47427597e-02 -1.96534852e-01  3.17070009e-02  8.68700188e-02\n",
            "  -2.23966042e-03]\n",
            " [-4.61736400e-02  8.14867652e-02  1.06110028e-03  8.31857839e-03\n",
            "  -1.92924949e-03 -6.18868644e-02 -1.25406554e-01  2.61791431e-03\n",
            "  -5.55600277e-02  2.16024545e-01 -3.27743687e-02 -1.16070991e-01\n",
            "   9.84424408e-04]]\n",
            "[-0.00401683  0.00918276 -0.00681667]\n"
          ],
          "name": "stdout"
        }
      ]
    },
    {
      "cell_type": "markdown",
      "metadata": {
        "id": "fZk0kiO0Aiop"
      },
      "source": [
        "TO DO: Define a class __SimpleLinearClassifier__ composed of the following functions:\n",
        "\n",
        "* __\\_\\_init\\_\\___(self, weight, bias) - takes a weight matrix and a bias vector as input and stores them in instance variables\n",
        "\n",
        "* __predict(self, X)__ - takes an array of rank 2 as input, and returns the classification results as an array of rank 1\n",
        "\n",
        "* __probability(self, X)__ - takes an array of rank 2 as input and returns the probabilities that each sample belongs to each class as an array of rank 2. (You need to implement the softmax function to convert logits into probabilities.)\n",
        "\n",
        "* __score(self, X, y)__ - takes an input data (rank 2) and a target vector (rank 1) as input, and returns the accuracy as a scalar value.\n",
        "\n",
        "\n",
        "The __SimpleLinearClassifier__ should work as the following examples."
      ]
    },
    {
      "cell_type": "code",
      "metadata": {
        "id": "pDnCF1mjvFJA"
      },
      "source": [
        "# Define SimpleLienarClassfier here.\n",
        "def softmax(a) :\n",
        "  exp_a = np.exp(a)\n",
        "  sum_exp_a = np.sum(exp_a, axis = 1)\n",
        "  sum_exp_a = np.expand_dims(sum_exp_a, axis=1)\n",
        "  y = exp_a / sum_exp_a\n",
        "  return y\n",
        "\n",
        "class SimpleLienarClassfier:\n",
        "  def __init__(self, weight, bias):\n",
        "    self.w = weight\n",
        "    self.b = bias\n",
        "  \n",
        "  def probability(self, X):\n",
        "    temp_X = X.dot(self.w.T) + np.expand_dims(self.b, axis=0)\n",
        "    return softmax(temp_X)\n",
        "\n",
        "  def predict(self, X):\n",
        "    temp_prob = self.probability(X)\n",
        "    return np.argmax(temp_prob, axis=1)\n",
        "  \n",
        "  def score(self, X, y):\n",
        "    a = self.predict(X)\n",
        "    is_same = a == y\n",
        "    c = a[is_same]\n",
        "    return c.shape[0]/a.shape[0]"
      ],
      "execution_count": 184,
      "outputs": []
    },
    {
      "cell_type": "markdown",
      "metadata": {
        "id": "IuSYy99-FOAa"
      },
      "source": [
        "TO DO: Create a SimpleLinearClassfier instance simple_lr using W_lr and b_lr. Then, print the accuracy on the training and test data.<br>\n",
        "(The accuracies should be the same as those of the LogisticRegression instance.)"
      ]
    },
    {
      "cell_type": "code",
      "metadata": {
        "id": "MJFs7pAg6IOY",
        "outputId": "a40265fd-2713-4d28-eb32-038c8c2981c0",
        "colab": {
          "base_uri": "https://localhost:8080/",
          "height": 52
        }
      },
      "source": [
        "simple_lr = SimpleLienarClassfier(W_lr, b_lr)\n",
        "print(simple_lr.score(X_train,y_train))\n",
        "print(simple_lr.score(X_test,y_test))"
      ],
      "execution_count": 185,
      "outputs": [
        {
          "output_type": "stream",
          "text": [
            "0.9924812030075187\n",
            "0.9333333333333333\n"
          ],
          "name": "stdout"
        }
      ]
    },
    {
      "cell_type": "markdown",
      "metadata": {
        "id": "bhi2Zmx3FaPx"
      },
      "source": [
        "TO DO: Display the results of simple_lr.predict(X_test) along with y_test."
      ]
    },
    {
      "cell_type": "code",
      "metadata": {
        "id": "2laJOWR1GnmO",
        "outputId": "ad5e164b-7d26-4a07-a9be-3fa20519d489",
        "colab": {
          "base_uri": "https://localhost:8080/",
          "height": 87
        }
      },
      "source": [
        "y_hat = simple_lr.predict(X_test)\n",
        "print(\"y_hat = \" , y_hat)\n",
        "print(\"y_test = \" , y_test)"
      ],
      "execution_count": 186,
      "outputs": [
        {
          "output_type": "stream",
          "text": [
            "y_hat =  [0 2 1 0 1 1 0 2 1 1 2 2 0 1 2 1 0 0 2 0 1 0 1 1 1 1 1 1 1 2 0 0 1 0 0 0 2\n",
            " 1 1 2 1 0 1 1 1]\n",
            "y_test =  [0 2 1 0 1 1 0 2 1 1 2 2 0 1 2 1 0 0 1 0 1 0 0 1 1 1 1 1 1 2 0 0 1 0 0 0 2\n",
            " 1 1 2 0 0 1 1 1]\n"
          ],
          "name": "stdout"
        }
      ]
    },
    {
      "cell_type": "markdown",
      "metadata": {
        "id": "BfSGdKXfKAwJ"
      },
      "source": [
        "TO DO: Display the result of simple_lr.probability(X_test).\n",
        "Then, check whether the sum of each row makes one."
      ]
    },
    {
      "cell_type": "code",
      "metadata": {
        "id": "cFMpwp9IHSeH",
        "outputId": "1cd488a1-8f60-49e9-8fc6-76d0ba8f98ff",
        "colab": {
          "base_uri": "https://localhost:8080/",
          "height": 844
        }
      },
      "source": [
        "print(\"prob = \",simple_lr.probability(X_test))\n",
        "print(simple_lr.probability(X_test).sum(axis=1))"
      ],
      "execution_count": 187,
      "outputs": [
        {
          "output_type": "stream",
          "text": [
            "prob =  [[9.91523974e-01 1.06809396e-03 7.40793157e-03]\n",
            " [3.77327532e-06 1.30747729e-07 9.99996096e-01]\n",
            " [3.44245206e-03 9.96346395e-01 2.11152743e-04]\n",
            " [9.84160185e-01 1.48380428e-03 1.43560112e-02]\n",
            " [3.47198262e-03 9.96246866e-01 2.81151540e-04]\n",
            " [3.24070085e-03 9.92522269e-01 4.23702975e-03]\n",
            " [9.98974254e-01 8.79461736e-05 9.37799443e-04]\n",
            " [9.33756528e-04 9.70685064e-05 9.98969175e-01]\n",
            " [7.45239054e-03 9.91861675e-01 6.85934882e-04]\n",
            " [1.77271256e-03 9.97704602e-01 5.22685383e-04]\n",
            " [8.96380394e-02 1.14086635e-02 8.98953297e-01]\n",
            " [2.34976560e-03 2.79276387e-02 9.69722596e-01]\n",
            " [9.99918361e-01 3.14178153e-07 8.13251425e-05]\n",
            " [1.98520006e-01 8.00879300e-01 6.00693636e-04]\n",
            " [3.52047348e-04 1.71638882e-05 9.99630789e-01]\n",
            " [2.14401123e-05 9.99974013e-01 4.54707456e-06]\n",
            " [9.88633382e-01 7.01422817e-04 1.06651955e-02]\n",
            " [9.99961126e-01 9.20343542e-10 3.88732006e-05]\n",
            " [8.16704638e-03 1.12844947e-01 8.78988007e-01]\n",
            " [9.99869347e-01 5.27342750e-05 7.79184901e-05]\n",
            " [1.18290976e-01 8.81018904e-01 6.90119562e-04]\n",
            " [9.94392087e-01 3.44935863e-03 2.15855428e-03]\n",
            " [2.07414515e-01 7.55193122e-01 3.73923624e-02]\n",
            " [1.94639571e-02 9.80212270e-01 3.23772406e-04]\n",
            " [1.07751319e-01 7.24642471e-01 1.67606210e-01]\n",
            " [3.78945715e-05 9.99951144e-01 1.09617796e-05]\n",
            " [3.20635503e-04 9.99599242e-01 8.01223690e-05]\n",
            " [1.91276710e-04 9.99552481e-01 2.56242489e-04]\n",
            " [9.64174744e-02 7.39841661e-01 1.63740864e-01]\n",
            " [1.31114037e-04 3.48019486e-06 9.99865406e-01]\n",
            " [9.99785525e-01 1.30045516e-04 8.44292521e-05]\n",
            " [9.87939816e-01 3.18735705e-03 8.87282661e-03]\n",
            " [3.89804360e-02 9.53118746e-01 7.90081777e-03]\n",
            " [9.94250149e-01 4.95657185e-04 5.25419401e-03]\n",
            " [9.98062914e-01 1.69035459e-03 2.46731449e-04]\n",
            " [9.61686644e-01 3.44021345e-02 3.91122141e-03]\n",
            " [5.92062020e-03 2.57860959e-03 9.91500770e-01]\n",
            " [9.42561593e-04 9.97889216e-01 1.16822269e-03]\n",
            " [1.05542635e-03 9.98393747e-01 5.50826873e-04]\n",
            " [1.67354415e-03 5.40514892e-05 9.98272404e-01]\n",
            " [3.36366096e-01 6.63093753e-01 5.40151036e-04]\n",
            " [9.98871505e-01 4.65049896e-04 6.63445372e-04]\n",
            " [1.43545697e-04 9.99846498e-01 9.95587894e-06]\n",
            " [2.25411270e-03 9.97284662e-01 4.61225520e-04]\n",
            " [3.66429611e-04 9.99267980e-01 3.65590529e-04]]\n",
            "[1. 1. 1. 1. 1. 1. 1. 1. 1. 1. 1. 1. 1. 1. 1. 1. 1. 1. 1. 1. 1. 1. 1. 1.\n",
            " 1. 1. 1. 1. 1. 1. 1. 1. 1. 1. 1. 1. 1. 1. 1. 1. 1. 1. 1. 1. 1.]\n"
          ],
          "name": "stdout"
        }
      ]
    },
    {
      "cell_type": "markdown",
      "metadata": {
        "id": "9FfCL3TlKWoQ"
      },
      "source": [
        "TO DO: Print the accuracy on the training and test data."
      ]
    },
    {
      "cell_type": "code",
      "metadata": {
        "id": "mpI7u0MTHXgN",
        "outputId": "ec361c7f-0495-4990-e2d6-973da00ac444",
        "colab": {
          "base_uri": "https://localhost:8080/",
          "height": 52
        }
      },
      "source": [
        "print(simple_lr.score(X_train,y_train))\n",
        "print(simple_lr.score(X_test,y_test))"
      ],
      "execution_count": 188,
      "outputs": [
        {
          "output_type": "stream",
          "text": [
            "0.9924812030075187\n",
            "0.9333333333333333\n"
          ],
          "name": "stdout"
        }
      ]
    },
    {
      "cell_type": "markdown",
      "metadata": {
        "id": "mQTnq0KhGwf5"
      },
      "source": [
        "TO DO: Create a SimpleLinearClassfier instance simple_svc using W_svc and b_svc. Then, print the accuracy on the training and test data.<br>\n",
        "(The accuracies should be the same as those of the LinearSVC instance.)"
      ]
    },
    {
      "cell_type": "code",
      "metadata": {
        "id": "dyhGFRmS-6gc",
        "outputId": "bf9d4d5b-404d-49c7-f5be-8e86cf9ce453",
        "colab": {
          "base_uri": "https://localhost:8080/",
          "height": 52
        }
      },
      "source": [
        "simple_svc = SimpleLienarClassfier(W_svc, b_svc)\n",
        "print(simple_svc.score(X_train,y_train))\n",
        "print(simple_svc.score(X_test,y_test))"
      ],
      "execution_count": 189,
      "outputs": [
        {
          "output_type": "stream",
          "text": [
            "0.7894736842105263\n",
            "0.7111111111111111\n"
          ],
          "name": "stdout"
        }
      ]
    },
    {
      "cell_type": "markdown",
      "metadata": {
        "id": "TiX8oew5KlbY"
      },
      "source": [
        "TO DO: Display the results of simple_svc.predict(X_test) along with y_test."
      ]
    },
    {
      "cell_type": "code",
      "metadata": {
        "id": "j2PSAoU4yTEZ",
        "outputId": "0c07f517-ee31-45f3-985c-c70277d38743",
        "colab": {
          "base_uri": "https://localhost:8080/",
          "height": 87
        }
      },
      "source": [
        "y_hat = simple_svc.predict(X_test)\n",
        "print(\"y_hat = \" , y_hat)\n",
        "print(\"y_test = \" , y_test)"
      ],
      "execution_count": 190,
      "outputs": [
        {
          "output_type": "stream",
          "text": [
            "y_hat =  [2 2 1 2 1 1 0 2 1 1 2 2 0 1 2 1 2 0 2 0 1 0 2 1 2 1 1 1 2 2 0 2 2 2 0 2 2\n",
            " 1 1 2 2 2 1 1 1]\n",
            "y_test =  [0 2 1 0 1 1 0 2 1 1 2 2 0 1 2 1 0 0 1 0 1 0 0 1 1 1 1 1 1 2 0 0 1 0 0 0 2\n",
            " 1 1 2 0 0 1 1 1]\n"
          ],
          "name": "stdout"
        }
      ]
    },
    {
      "cell_type": "markdown",
      "metadata": {
        "id": "VykOf3HbLAYZ"
      },
      "source": [
        "TO DO: Display the result of simple_svc.probability(X_test).\n",
        "Then, check whether the sum of each row makes one."
      ]
    },
    {
      "cell_type": "code",
      "metadata": {
        "id": "Ad_Z4IP7FV6p",
        "outputId": "9046f9a8-4566-41b1-f759-be5a1763fc05",
        "colab": {
          "base_uri": "https://localhost:8080/",
          "height": 844
        }
      },
      "source": [
        "print(\"prob = \",simple_svc.probability(X_test))\n",
        "print(\"prob.sum(axis = 1) = \" , simple_svc.probability(X_test).sum(axis=1))"
      ],
      "execution_count": 191,
      "outputs": [
        {
          "output_type": "stream",
          "text": [
            "prob =  [[0.41370298 0.08767762 0.4986194 ]\n",
            " [0.01733267 0.05090078 0.93176655]\n",
            " [0.07476692 0.6371551  0.28807798]\n",
            " [0.3336492  0.08161925 0.58473155]\n",
            " [0.04686202 0.67789903 0.27523895]\n",
            " [0.02292256 0.67194179 0.30513565]\n",
            " [0.55552907 0.04471566 0.39975527]\n",
            " [0.04273504 0.09745658 0.85980837]\n",
            " [0.11007208 0.52998937 0.35993855]\n",
            " [0.0995174  0.5751512  0.3253314 ]\n",
            " [0.13563177 0.11054997 0.75381826]\n",
            " [0.04672782 0.22289246 0.73037971]\n",
            " [0.67859697 0.01167457 0.30972845]\n",
            " [0.19621228 0.42460571 0.37918202]\n",
            " [0.04160377 0.0556456  0.90275062]\n",
            " [0.03421777 0.82683633 0.1389459 ]\n",
            " [0.43357948 0.07076529 0.49565522]\n",
            " [0.69509193 0.00277314 0.30213493]\n",
            " [0.07838876 0.3061594  0.61545184]\n",
            " [0.59754207 0.03555158 0.36690635]\n",
            " [0.17343156 0.44504491 0.38152354]\n",
            " [0.46771559 0.0849983  0.44728611]\n",
            " [0.13816181 0.39047496 0.47136323]\n",
            " [0.15974616 0.47493035 0.3653235 ]\n",
            " [0.20233319 0.30744139 0.49022542]\n",
            " [0.03292994 0.80524484 0.16182521]\n",
            " [0.04079738 0.71952771 0.2396749 ]\n",
            " [0.05727446 0.64825957 0.29446597]\n",
            " [0.11050086 0.38860445 0.50089469]\n",
            " [0.03296341 0.0435667  0.92346989]\n",
            " [0.60650046 0.0478086  0.34569093]\n",
            " [0.35245089 0.11983963 0.52770948]\n",
            " [0.10142065 0.44068545 0.4578939 ]\n",
            " [0.35625925 0.08233493 0.56140582]\n",
            " [0.54157195 0.08139523 0.37703282]\n",
            " [0.33461754 0.19777561 0.46760685]\n",
            " [0.08510123 0.14203039 0.77286838]\n",
            " [0.08081431 0.5331678  0.38601789]\n",
            " [0.0532201  0.7153181  0.2314618 ]\n",
            " [0.0576104  0.06682528 0.87556431]\n",
            " [0.26681574 0.34133438 0.39184988]\n",
            " [0.44427362 0.05287614 0.50285025]\n",
            " [0.04144168 0.80763223 0.15092609]\n",
            " [0.12411729 0.5446152  0.33126751]\n",
            " [0.05896546 0.65999927 0.28103527]]\n",
            "prob.sum(axis = 1) =  [1. 1. 1. 1. 1. 1. 1. 1. 1. 1. 1. 1. 1. 1. 1. 1. 1. 1. 1. 1. 1. 1. 1. 1.\n",
            " 1. 1. 1. 1. 1. 1. 1. 1. 1. 1. 1. 1. 1. 1. 1. 1. 1. 1. 1. 1. 1.]\n"
          ],
          "name": "stdout"
        }
      ]
    },
    {
      "cell_type": "markdown",
      "metadata": {
        "id": "8tkrI3OVKcvI"
      },
      "source": [
        "TO DO: Print the accuracy on the training and test data."
      ]
    },
    {
      "cell_type": "code",
      "metadata": {
        "id": "7cZqFbAHyfqH",
        "outputId": "9aa231d0-f1b9-4c93-ec08-f2f82b722033",
        "colab": {
          "base_uri": "https://localhost:8080/",
          "height": 52
        }
      },
      "source": [
        "print(simple_svc.score(X_train,y_train))\n",
        "print(simple_svc.score(X_test,y_test))"
      ],
      "execution_count": 192,
      "outputs": [
        {
          "output_type": "stream",
          "text": [
            "0.7894736842105263\n",
            "0.7111111111111111\n"
          ],
          "name": "stdout"
        }
      ]
    },
    {
      "cell_type": "code",
      "metadata": {
        "id": "1PiZ-DBQ7lkp"
      },
      "source": [
        ""
      ],
      "execution_count": null,
      "outputs": []
    }
  ]
}